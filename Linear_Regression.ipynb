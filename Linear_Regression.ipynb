{
 "cells": [
  {
   "cell_type": "code",
   "execution_count": 36,
   "id": "a0a4029d",
   "metadata": {},
   "outputs": [],
   "source": [
    "# import necessary libraries and specify that graphs should be plotted inline\n",
    "%matplotlib inline \n",
    "import numpy as np\n",
    "import pandas as pd\n",
    "import sklearn\n",
    "import matplotlib.pyplot as plt\n",
    "import seaborn as sns"
   ]
  },
  {
   "cell_type": "code",
   "execution_count": 37,
   "id": "972ca09d",
   "metadata": {},
   "outputs": [
    {
     "data": {
      "text/html": [
       "<div>\n",
       "<style scoped>\n",
       "    .dataframe tbody tr th:only-of-type {\n",
       "        vertical-align: middle;\n",
       "    }\n",
       "\n",
       "    .dataframe tbody tr th {\n",
       "        vertical-align: top;\n",
       "    }\n",
       "\n",
       "    .dataframe thead th {\n",
       "        text-align: right;\n",
       "    }\n",
       "</style>\n",
       "<table border=\"1\" class=\"dataframe\">\n",
       "  <thead>\n",
       "    <tr style=\"text-align: right;\">\n",
       "      <th></th>\n",
       "      <th>Unnamed: 0</th>\n",
       "      <th>acousticness</th>\n",
       "      <th>artists</th>\n",
       "      <th>danceability</th>\n",
       "      <th>duration_ms</th>\n",
       "      <th>energy</th>\n",
       "      <th>explicit</th>\n",
       "      <th>id</th>\n",
       "      <th>instrumentalness</th>\n",
       "      <th>key</th>\n",
       "      <th>liveness</th>\n",
       "      <th>loudness</th>\n",
       "      <th>mode</th>\n",
       "      <th>name</th>\n",
       "      <th>popularity</th>\n",
       "      <th>release_date</th>\n",
       "      <th>speechiness</th>\n",
       "      <th>tempo</th>\n",
       "      <th>valence</th>\n",
       "      <th>year</th>\n",
       "    </tr>\n",
       "  </thead>\n",
       "  <tbody>\n",
       "    <tr>\n",
       "      <th>0</th>\n",
       "      <td>1</td>\n",
       "      <td>0.9950</td>\n",
       "      <td>['Carl Woitschach']</td>\n",
       "      <td>0.708</td>\n",
       "      <td>158648</td>\n",
       "      <td>0.1950</td>\n",
       "      <td>0</td>\n",
       "      <td>6KbQ3uYMLKb5jDxLF7wYDD</td>\n",
       "      <td>0.563000</td>\n",
       "      <td>10</td>\n",
       "      <td>0.1510</td>\n",
       "      <td>-12.428</td>\n",
       "      <td>1</td>\n",
       "      <td>Singende Bataillone 1. Teil</td>\n",
       "      <td>0</td>\n",
       "      <td>1928</td>\n",
       "      <td>0.0506</td>\n",
       "      <td>118.469</td>\n",
       "      <td>0.7790</td>\n",
       "      <td>1928</td>\n",
       "    </tr>\n",
       "    <tr>\n",
       "      <th>1</th>\n",
       "      <td>2</td>\n",
       "      <td>0.9940</td>\n",
       "      <td>['Robert Schumann', 'Vladimir Horowitz']</td>\n",
       "      <td>0.379</td>\n",
       "      <td>282133</td>\n",
       "      <td>0.0135</td>\n",
       "      <td>0</td>\n",
       "      <td>6KuQTIu1KoTTkLXKrwlLPV</td>\n",
       "      <td>0.901000</td>\n",
       "      <td>8</td>\n",
       "      <td>0.0763</td>\n",
       "      <td>-28.454</td>\n",
       "      <td>1</td>\n",
       "      <td>Fantasiestücke, Op. 111: Più tosto lento</td>\n",
       "      <td>0</td>\n",
       "      <td>1928</td>\n",
       "      <td>0.0462</td>\n",
       "      <td>83.972</td>\n",
       "      <td>0.0767</td>\n",
       "      <td>1928</td>\n",
       "    </tr>\n",
       "    <tr>\n",
       "      <th>2</th>\n",
       "      <td>3</td>\n",
       "      <td>0.6040</td>\n",
       "      <td>['Seweryn Goszczyński']</td>\n",
       "      <td>0.749</td>\n",
       "      <td>104300</td>\n",
       "      <td>0.2200</td>\n",
       "      <td>0</td>\n",
       "      <td>6L63VW0PibdM1HDSBoqnoM</td>\n",
       "      <td>0.000000</td>\n",
       "      <td>5</td>\n",
       "      <td>0.1190</td>\n",
       "      <td>-19.924</td>\n",
       "      <td>0</td>\n",
       "      <td>Chapter 1.18 - Zamek kaniowski</td>\n",
       "      <td>0</td>\n",
       "      <td>1928</td>\n",
       "      <td>0.9290</td>\n",
       "      <td>107.177</td>\n",
       "      <td>0.8800</td>\n",
       "      <td>1928</td>\n",
       "    </tr>\n",
       "    <tr>\n",
       "      <th>3</th>\n",
       "      <td>4</td>\n",
       "      <td>0.9950</td>\n",
       "      <td>['Francisco Canaro']</td>\n",
       "      <td>0.781</td>\n",
       "      <td>180760</td>\n",
       "      <td>0.1300</td>\n",
       "      <td>0</td>\n",
       "      <td>6M94FkXd15sOAOQYRnWPN8</td>\n",
       "      <td>0.887000</td>\n",
       "      <td>1</td>\n",
       "      <td>0.1110</td>\n",
       "      <td>-14.734</td>\n",
       "      <td>0</td>\n",
       "      <td>Bebamos Juntos - Instrumental (Remasterizado)</td>\n",
       "      <td>0</td>\n",
       "      <td>1928</td>\n",
       "      <td>0.0926</td>\n",
       "      <td>108.003</td>\n",
       "      <td>0.7200</td>\n",
       "      <td>1928</td>\n",
       "    </tr>\n",
       "    <tr>\n",
       "      <th>4</th>\n",
       "      <td>5</td>\n",
       "      <td>0.9900</td>\n",
       "      <td>['Frédéric Chopin', 'Vladimir Horowitz']</td>\n",
       "      <td>0.210</td>\n",
       "      <td>687733</td>\n",
       "      <td>0.2040</td>\n",
       "      <td>0</td>\n",
       "      <td>6N6tiFZ9vLTSOIxkj8qKrd</td>\n",
       "      <td>0.908000</td>\n",
       "      <td>11</td>\n",
       "      <td>0.0980</td>\n",
       "      <td>-16.829</td>\n",
       "      <td>1</td>\n",
       "      <td>Polonaise-Fantaisie in A-Flat Major, Op. 61</td>\n",
       "      <td>1</td>\n",
       "      <td>1928</td>\n",
       "      <td>0.0424</td>\n",
       "      <td>62.149</td>\n",
       "      <td>0.0693</td>\n",
       "      <td>1928</td>\n",
       "    </tr>\n",
       "    <tr>\n",
       "      <th>...</th>\n",
       "      <td>...</td>\n",
       "      <td>...</td>\n",
       "      <td>...</td>\n",
       "      <td>...</td>\n",
       "      <td>...</td>\n",
       "      <td>...</td>\n",
       "      <td>...</td>\n",
       "      <td>...</td>\n",
       "      <td>...</td>\n",
       "      <td>...</td>\n",
       "      <td>...</td>\n",
       "      <td>...</td>\n",
       "      <td>...</td>\n",
       "      <td>...</td>\n",
       "      <td>...</td>\n",
       "      <td>...</td>\n",
       "      <td>...</td>\n",
       "      <td>...</td>\n",
       "      <td>...</td>\n",
       "      <td>...</td>\n",
       "    </tr>\n",
       "    <tr>\n",
       "      <th>165706</th>\n",
       "      <td>169905</td>\n",
       "      <td>0.1730</td>\n",
       "      <td>['DripReport', 'Tyga']</td>\n",
       "      <td>0.875</td>\n",
       "      <td>163800</td>\n",
       "      <td>0.4430</td>\n",
       "      <td>1</td>\n",
       "      <td>4KppkflX7I3vJQk7urOJaS</td>\n",
       "      <td>0.000032</td>\n",
       "      <td>1</td>\n",
       "      <td>0.0891</td>\n",
       "      <td>-7.461</td>\n",
       "      <td>1</td>\n",
       "      <td>Skechers (feat. Tyga) - Remix</td>\n",
       "      <td>75</td>\n",
       "      <td>2020</td>\n",
       "      <td>0.1430</td>\n",
       "      <td>100.012</td>\n",
       "      <td>0.3060</td>\n",
       "      <td>2020</td>\n",
       "    </tr>\n",
       "    <tr>\n",
       "      <th>165707</th>\n",
       "      <td>169906</td>\n",
       "      <td>0.0167</td>\n",
       "      <td>['Leon Bridges', 'Terrace Martin']</td>\n",
       "      <td>0.719</td>\n",
       "      <td>167468</td>\n",
       "      <td>0.3850</td>\n",
       "      <td>0</td>\n",
       "      <td>1ehhGlTvjtHo2e4xJFB0SZ</td>\n",
       "      <td>0.031300</td>\n",
       "      <td>8</td>\n",
       "      <td>0.1110</td>\n",
       "      <td>-10.907</td>\n",
       "      <td>1</td>\n",
       "      <td>Sweeter (feat. Terrace Martin)</td>\n",
       "      <td>64</td>\n",
       "      <td>2020</td>\n",
       "      <td>0.0403</td>\n",
       "      <td>128.000</td>\n",
       "      <td>0.2700</td>\n",
       "      <td>2020</td>\n",
       "    </tr>\n",
       "    <tr>\n",
       "      <th>165708</th>\n",
       "      <td>169907</td>\n",
       "      <td>0.5380</td>\n",
       "      <td>['Kygo', 'Oh Wonder']</td>\n",
       "      <td>0.514</td>\n",
       "      <td>180700</td>\n",
       "      <td>0.5390</td>\n",
       "      <td>0</td>\n",
       "      <td>52eycxprLhK3lPcRLbQiVk</td>\n",
       "      <td>0.002330</td>\n",
       "      <td>7</td>\n",
       "      <td>0.1080</td>\n",
       "      <td>-9.332</td>\n",
       "      <td>1</td>\n",
       "      <td>How Would I Know</td>\n",
       "      <td>70</td>\n",
       "      <td>2020</td>\n",
       "      <td>0.1050</td>\n",
       "      <td>123.700</td>\n",
       "      <td>0.1530</td>\n",
       "      <td>2020</td>\n",
       "    </tr>\n",
       "    <tr>\n",
       "      <th>165709</th>\n",
       "      <td>169908</td>\n",
       "      <td>0.0714</td>\n",
       "      <td>['Cash Cash', 'Andy Grammer']</td>\n",
       "      <td>0.646</td>\n",
       "      <td>167308</td>\n",
       "      <td>0.7610</td>\n",
       "      <td>0</td>\n",
       "      <td>3wYOGJYD31sLRmBgCvWxa4</td>\n",
       "      <td>0.000000</td>\n",
       "      <td>1</td>\n",
       "      <td>0.2220</td>\n",
       "      <td>-2.557</td>\n",
       "      <td>1</td>\n",
       "      <td>I Found You</td>\n",
       "      <td>70</td>\n",
       "      <td>2020</td>\n",
       "      <td>0.0385</td>\n",
       "      <td>129.916</td>\n",
       "      <td>0.4720</td>\n",
       "      <td>2020</td>\n",
       "    </tr>\n",
       "    <tr>\n",
       "      <th>165710</th>\n",
       "      <td>169909</td>\n",
       "      <td>0.1090</td>\n",
       "      <td>['Ingrid Andress']</td>\n",
       "      <td>0.512</td>\n",
       "      <td>214787</td>\n",
       "      <td>0.4280</td>\n",
       "      <td>0</td>\n",
       "      <td>60RFlt48hm0l4Fu0JoccOl</td>\n",
       "      <td>0.000000</td>\n",
       "      <td>0</td>\n",
       "      <td>0.1050</td>\n",
       "      <td>-7.387</td>\n",
       "      <td>1</td>\n",
       "      <td>More Hearts Than Mine</td>\n",
       "      <td>65</td>\n",
       "      <td>2020</td>\n",
       "      <td>0.0271</td>\n",
       "      <td>80.588</td>\n",
       "      <td>0.3660</td>\n",
       "      <td>2020</td>\n",
       "    </tr>\n",
       "  </tbody>\n",
       "</table>\n",
       "<p>165711 rows × 20 columns</p>\n",
       "</div>"
      ],
      "text/plain": [
       "        Unnamed: 0  acousticness                                   artists  \\\n",
       "0                1        0.9950                       ['Carl Woitschach']   \n",
       "1                2        0.9940  ['Robert Schumann', 'Vladimir Horowitz']   \n",
       "2                3        0.6040                   ['Seweryn Goszczyński']   \n",
       "3                4        0.9950                      ['Francisco Canaro']   \n",
       "4                5        0.9900  ['Frédéric Chopin', 'Vladimir Horowitz']   \n",
       "...            ...           ...                                       ...   \n",
       "165706      169905        0.1730                    ['DripReport', 'Tyga']   \n",
       "165707      169906        0.0167        ['Leon Bridges', 'Terrace Martin']   \n",
       "165708      169907        0.5380                     ['Kygo', 'Oh Wonder']   \n",
       "165709      169908        0.0714             ['Cash Cash', 'Andy Grammer']   \n",
       "165710      169909        0.1090                        ['Ingrid Andress']   \n",
       "\n",
       "        danceability  duration_ms  energy  explicit                      id  \\\n",
       "0              0.708       158648  0.1950         0  6KbQ3uYMLKb5jDxLF7wYDD   \n",
       "1              0.379       282133  0.0135         0  6KuQTIu1KoTTkLXKrwlLPV   \n",
       "2              0.749       104300  0.2200         0  6L63VW0PibdM1HDSBoqnoM   \n",
       "3              0.781       180760  0.1300         0  6M94FkXd15sOAOQYRnWPN8   \n",
       "4              0.210       687733  0.2040         0  6N6tiFZ9vLTSOIxkj8qKrd   \n",
       "...              ...          ...     ...       ...                     ...   \n",
       "165706         0.875       163800  0.4430         1  4KppkflX7I3vJQk7urOJaS   \n",
       "165707         0.719       167468  0.3850         0  1ehhGlTvjtHo2e4xJFB0SZ   \n",
       "165708         0.514       180700  0.5390         0  52eycxprLhK3lPcRLbQiVk   \n",
       "165709         0.646       167308  0.7610         0  3wYOGJYD31sLRmBgCvWxa4   \n",
       "165710         0.512       214787  0.4280         0  60RFlt48hm0l4Fu0JoccOl   \n",
       "\n",
       "        instrumentalness  key  liveness  loudness  mode  \\\n",
       "0               0.563000   10    0.1510   -12.428     1   \n",
       "1               0.901000    8    0.0763   -28.454     1   \n",
       "2               0.000000    5    0.1190   -19.924     0   \n",
       "3               0.887000    1    0.1110   -14.734     0   \n",
       "4               0.908000   11    0.0980   -16.829     1   \n",
       "...                  ...  ...       ...       ...   ...   \n",
       "165706          0.000032    1    0.0891    -7.461     1   \n",
       "165707          0.031300    8    0.1110   -10.907     1   \n",
       "165708          0.002330    7    0.1080    -9.332     1   \n",
       "165709          0.000000    1    0.2220    -2.557     1   \n",
       "165710          0.000000    0    0.1050    -7.387     1   \n",
       "\n",
       "                                                 name  popularity  \\\n",
       "0                         Singende Bataillone 1. Teil           0   \n",
       "1            Fantasiestücke, Op. 111: Più tosto lento           0   \n",
       "2                      Chapter 1.18 - Zamek kaniowski           0   \n",
       "3       Bebamos Juntos - Instrumental (Remasterizado)           0   \n",
       "4         Polonaise-Fantaisie in A-Flat Major, Op. 61           1   \n",
       "...                                               ...         ...   \n",
       "165706                  Skechers (feat. Tyga) - Remix          75   \n",
       "165707                 Sweeter (feat. Terrace Martin)          64   \n",
       "165708                               How Would I Know          70   \n",
       "165709                                    I Found You          70   \n",
       "165710                          More Hearts Than Mine          65   \n",
       "\n",
       "        release_date  speechiness    tempo  valence  year  \n",
       "0               1928       0.0506  118.469   0.7790  1928  \n",
       "1               1928       0.0462   83.972   0.0767  1928  \n",
       "2               1928       0.9290  107.177   0.8800  1928  \n",
       "3               1928       0.0926  108.003   0.7200  1928  \n",
       "4               1928       0.0424   62.149   0.0693  1928  \n",
       "...              ...          ...      ...      ...   ...  \n",
       "165706          2020       0.1430  100.012   0.3060  2020  \n",
       "165707          2020       0.0403  128.000   0.2700  2020  \n",
       "165708          2020       0.1050  123.700   0.1530  2020  \n",
       "165709          2020       0.0385  129.916   0.4720  2020  \n",
       "165710          2020       0.0271   80.588   0.3660  2020  \n",
       "\n",
       "[165711 rows x 20 columns]"
      ]
     },
     "execution_count": 37,
     "metadata": {},
     "output_type": "execute_result"
    }
   ],
   "source": [
    "data = pd.read_csv('Cleaned_Spotify.csv')\n",
    "data.drop('release_date',axis=1)\n",
    "data.isnull()\n",
    "data.dropna()"
   ]
  },
  {
   "cell_type": "code",
   "execution_count": 38,
   "id": "89adc1b3",
   "metadata": {},
   "outputs": [],
   "source": [
    "features = ['acousticness',\n",
    " 'danceability',\n",
    " 'energy',\n",
    " 'instrumentalness',\n",
    " 'loudness',\n",
    " 'tempo', 'year']"
   ]
  },
  {
   "cell_type": "code",
   "execution_count": 39,
   "id": "eddb8fcf",
   "metadata": {},
   "outputs": [
    {
     "data": {
      "image/png": "[encoded data removed]",
      "text/plain": [
       "<Figure size 864x864 with 2 Axes>"
      ]
     },
     "metadata": {
      "needs_background": "light"
     },
     "output_type": "display_data"
    }
   ],
   "source": [
    "f,ax = plt.subplots(figsize=(12, 12))\n",
    "mask = np.zeros_like(data.corr())\n",
    "mask[np.triu_indices_from(mask)] = True\n",
    "sns.heatmap(data.corr(), annot=True, linewidths=0.4,linecolor=\"white\", fmt= '.1f',ax=ax,cmap=\"Blues\",mask=mask)\n",
    "plt.show()"
   ]
  },
  {
   "cell_type": "code",
   "execution_count": 40,
   "id": "411b4095",
   "metadata": {},
   "outputs": [],
   "source": [
    "X = data[features]\n",
    "y = data['popularity']"
   ]
  },
  {
   "cell_type": "code",
   "execution_count": 41,
   "id": "2dcbe7e3",
   "metadata": {},
   "outputs": [
    {
     "name": "stdout",
     "output_type": "stream",
     "text": [
      "32.06351888410907 32.05868650843939 32.047411192018345\n"
     ]
    }
   ],
   "source": [
    "from sklearn.model_selection import train_test_split\n",
    "X_train, X_test, y_train, y_test = train_test_split(X, y, test_size = 0.3, random_state=42)\n",
    "print(np.mean(y_train), np.mean(y), np.mean(y_test))"
   ]
  },
  {
   "cell_type": "code",
   "execution_count": 28,
   "id": "d0b2a967",
   "metadata": {},
   "outputs": [
    {
     "data": {
      "text/plain": [
       "GridSearchCV(cv=5,\n",
       "             estimator=Pipeline(steps=[('polynomialfeatures',\n",
       "                                        PolynomialFeatures()),\n",
       "                                       ('linearregression',\n",
       "                                        LinearRegression())]),\n",
       "             param_grid={'polynomialfeatures__degree': range(1, 6)})"
      ]
     },
     "execution_count": 28,
     "metadata": {},
     "output_type": "execute_result"
    }
   ],
   "source": [
    "#Polynomial Regression\n",
    "from sklearn.model_selection import GridSearchCV\n",
    "from sklearn.preprocessing  import PolynomialFeatures\n",
    "from sklearn.pipeline import make_pipeline\n",
    "from sklearn.linear_model import LinearRegression\n",
    "param_poly = {'polynomialfeatures__degree' :  range(1,6)  } \n",
    "grid_poly = PolynomialFeatures()\n",
    "lr_poly = LinearRegression()\n",
    "pipe_grid_poly = make_pipeline(  grid_poly  ,  lr_poly )\n",
    "\n",
    "grid_poly_reg = GridSearchCV(pipe_grid_poly, param_poly, cv = 5)\n",
    "\n",
    "grid_poly_reg.fit(X_train, y_train)"
   ]
  },
  {
   "cell_type": "code",
   "execution_count": 29,
   "id": "c779b9e7",
   "metadata": {},
   "outputs": [
    {
     "data": {
      "text/plain": [
       "96.8767606623674"
      ]
     },
     "execution_count": 29,
     "metadata": {},
     "output_type": "execute_result"
    }
   ],
   "source": [
    "\n",
    "y_test_pred_grid = grid_poly_reg.predict(X_test)\n",
    "y_test_pred_grid\n",
    "np.mean((y_test - y_test_pred_grid)**2)"
   ]
  },
  {
   "cell_type": "code",
   "execution_count": 42,
   "id": "07291b63",
   "metadata": {},
   "outputs": [
    {
     "name": "stdout",
     "output_type": "stream",
     "text": [
      "Best hyperparameter chosen: {'polynomialfeatures__degree': 5}\n",
      "Score based on which model is chosen: 0.7862135433031932\n",
      "Unbiased performance in R2: 0.7873869966397973\n"
     ]
    }
   ],
   "source": [
    "print('Best hyperparameter chosen:',grid_poly_reg.best_params_)\n",
    "print('Score based on which model is chosen:', grid_poly_reg.best_score_)\n",
    "print('Unbiased performance in R2:', grid_poly_reg.score(X_test, y_test))\n"
   ]
  },
  {
   "cell_type": "code",
   "execution_count": 43,
   "id": "4c7509e7",
   "metadata": {},
   "outputs": [
    {
     "data": {
      "text/plain": [
       "0.7862135433031932"
      ]
     },
     "execution_count": 43,
     "metadata": {},
     "output_type": "execute_result"
    }
   ],
   "source": [
    "grid_poly_reg.best_score_"
   ]
  },
  {
   "cell_type": "code",
   "execution_count": 44,
   "id": "6fa3995e",
   "metadata": {},
   "outputs": [],
   "source": [
    "#from sklearn.metrics import precision_score, recall_score, accuracy_score, f1_score\n",
    "#print('Precision score:', precision_score(y_test, y_test_pred_grid))\n",
    "#print('Recall score:', recall_score(y_test, y_test_pred_grid))\n",
    "#print('Accuracy score:', accuracy_score(y_test, y_test_pred_grid))\n",
    "#print('F1 score:', f1_score(y_test, y_test_pred_grid))"
   ]
  },
  {
   "cell_type": "code",
   "execution_count": 45,
   "id": "ca8c072e",
   "metadata": {},
   "outputs": [
    {
     "data": {
      "text/plain": [
       "{'polynomialfeatures': PolynomialFeatures(degree=5),\n",
       " 'linearregression': LinearRegression()}"
      ]
     },
     "execution_count": 45,
     "metadata": {},
     "output_type": "execute_result"
    }
   ],
   "source": [
    "grid_poly_reg.best_estimator_.named_steps"
   ]
  },
  {
   "cell_type": "code",
   "execution_count": null,
   "id": "20926347",
   "metadata": {},
   "outputs": [],
   "source": []
  },
  {
   "cell_type": "code",
   "execution_count": 46,
   "id": "7bcf8a5a",
   "metadata": {},
   "outputs": [
    {
     "data": {
      "text/plain": [
       "(array([-4.50785504e+00,  3.81823742e+00, -2.70455125e+00, -2.03435562e+00,\n",
       "         7.73670810e-02,  4.26327078e-03,  6.90681781e-01]),\n",
       " -1331.77171528507)"
      ]
     },
     "execution_count": 46,
     "metadata": {},
     "output_type": "execute_result"
    }
   ],
   "source": [
    "#Ridge\n",
    "from sklearn.linear_model import Ridge\n",
    "base_ridge = Ridge(alpha = 1)\n",
    "base_ridge.fit(X_train, y_train)\n",
    "base_ridge.coef_, base_ridge.intercept_"
   ]
  },
  {
   "cell_type": "code",
   "execution_count": 47,
   "id": "2a1faf34",
   "metadata": {},
   "outputs": [
    {
     "data": {
      "text/plain": [
       "GridSearchCV(cv=5, estimator=Ridge(),\n",
       "             param_grid={'alpha': [0.001, 0.01, 0.1, 1, 10, 100]})"
      ]
     },
     "execution_count": 47,
     "metadata": {},
     "output_type": "execute_result"
    }
   ],
   "source": [
    "ridge_params = { 'alpha'  : [0.001, 0.01, 0.1, 1, 10,100]  }\n",
    "my_ridge = Ridge() \n",
    "grid_ridge_cv = GridSearchCV(my_ridge, ridge_params, cv = 5)\n",
    "grid_ridge_cv.fit(X_train, y_train)"
   ]
  },
  {
   "cell_type": "code",
   "execution_count": 48,
   "id": "8d3c6e0c",
   "metadata": {},
   "outputs": [
    {
     "name": "stdout",
     "output_type": "stream",
     "text": [
      "Unbiased performance in R2: 0.7747410879911404\n",
      "Score based on which model is chosen: 0.7744284623541738\n",
      "Best hyperparameter chosen: {'alpha': 10}\n"
     ]
    },
    {
     "data": {
      "text/plain": [
       "(array([-4.49689779e+00,  3.80919053e+00, -2.68651054e+00, -2.03483701e+00,\n",
       "         7.71175073e-02,  4.25612476e-03,  6.90727724e-01]),\n",
       " -1331.8739256248048)"
      ]
     },
     "execution_count": 48,
     "metadata": {},
     "output_type": "execute_result"
    }
   ],
   "source": [
    "print('Unbiased performance in R2:', grid_ridge_cv.score(X_test, y_test))\n",
    "\n",
    "print('Score based on which model is chosen:', grid_ridge_cv.best_score_)\n",
    "\n",
    "print('Best hyperparameter chosen:', grid_ridge_cv.best_params_)\n",
    "\n",
    "grid_ridge_cv.best_estimator_.coef_, grid_ridge_cv.best_estimator_.intercept_"
   ]
  },
  {
   "cell_type": "code",
   "execution_count": 49,
   "id": "59f4aec8",
   "metadata": {},
   "outputs": [],
   "source": [
    "#Lasso\n",
    "from sklearn.linear_model import Lasso"
   ]
  },
  {
   "cell_type": "code",
   "execution_count": 50,
   "id": "742c42e5",
   "metadata": {},
   "outputs": [
    {
     "data": {
      "text/plain": [
       "GridSearchCV(cv=5, estimator=Lasso(),\n",
       "             param_grid={'alpha': [1e-05, 0.0001, 0.001, 0.01, 0.1, 1, 10]})"
      ]
     },
     "execution_count": 50,
     "metadata": {},
     "output_type": "execute_result"
    }
   ],
   "source": [
    "lasso_params = { 'alpha'  : [0.00001, 0.0001, 0.001, 0.01, 0.1, 1, 10]  }\n",
    "my_lasso = Lasso() # estimator\n",
    "grid_lasso_cv = GridSearchCV(my_lasso, lasso_params, cv = 5)\n",
    "grid_lasso_cv.fit(X_train, y_train)"
   ]
  },
  {
   "cell_type": "code",
   "execution_count": 51,
   "id": "16c3ce53",
   "metadata": {},
   "outputs": [
    {
     "name": "stdout",
     "output_type": "stream",
     "text": [
      "Unbiased performance in R2: 0.7747404873149469\n",
      "Score based on which model is chosen: 0.7744283990937463\n",
      "Best hyperparameter chosen: {'alpha': 0.0001}\n"
     ]
    },
    {
     "data": {
      "text/plain": [
       "(array([-4.50601837e+00,  3.81645665e+00, -2.70011619e+00, -2.03379030e+00,\n",
       "         7.72962261e-02,  4.26112037e-03,  6.90687664e-01]),\n",
       " -1331.78612906313)"
      ]
     },
     "execution_count": 51,
     "metadata": {},
     "output_type": "execute_result"
    }
   ],
   "source": [
    "print('Unbiased performance in R2:', grid_lasso_cv.score(X_test, y_test))\n",
    "print('Score based on which model is chosen:', grid_lasso_cv.best_score_)\n",
    "print('Best hyperparameter chosen:', grid_lasso_cv.best_params_)\n",
    "grid_lasso_cv.best_estimator_.coef_, grid_lasso_cv.best_estimator_.intercept_"
   ]
  },
  {
   "cell_type": "code",
   "execution_count": null,
   "id": "923bbb7e",
   "metadata": {},
   "outputs": [],
   "source": []
  },
  {
   "cell_type": "code",
   "execution_count": null,
   "id": "cc479e3c",
   "metadata": {},
   "outputs": [],
   "source": []
  },
  {
   "cell_type": "code",
   "execution_count": null,
   "id": "9e71e17b",
   "metadata": {},
   "outputs": [],
   "source": []
  },
  {
   "cell_type": "code",
   "execution_count": null,
   "id": "591b2924",
   "metadata": {},
   "outputs": [],
   "source": []
  },
  {
   "cell_type": "code",
   "execution_count": null,
   "id": "2c26e962",
   "metadata": {},
   "outputs": [],
   "source": []
  },
  {
   "cell_type": "code",
   "execution_count": null,
   "id": "cc1d0ffa",
   "metadata": {},
   "outputs": [],
   "source": []
  }
 ],
 "metadata": {
  "kernelspec": {
   "display_name": "Python 3 (ipykernel)",
   "language": "python",
   "name": "python3"
  },
  "language_info": {
   "codemirror_mode": {
    "name": "ipython",
    "version": 3
   },
   "file_extension": ".py",
   "mimetype": "text/x-python",
   "name": "python",
   "nbconvert_exporter": "python",
   "pygments_lexer": "ipython3",
   "version": "3.9.12"
  }
 },
 "nbformat": 4,
 "nbformat_minor": 5
}
