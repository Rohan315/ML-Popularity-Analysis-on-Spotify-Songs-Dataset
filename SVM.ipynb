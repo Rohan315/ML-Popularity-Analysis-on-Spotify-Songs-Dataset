{
 "cells": [
  {
   "cell_type": "code",
   "execution_count": 1,
   "id": "9c79347d-bb9e-4eb4-984a-f92a67bbb8b3",
   "metadata": {},
   "outputs": [],
   "source": [
    "import pandas as pd\n",
    "import numpy as np\n",
    "import matplotlib.pyplot as plt"
   ]
  },
  {
   "cell_type": "code",
   "execution_count": 2,
   "id": "8d29426d-e303-4493-b9f9-0308c1e3a5a6",
   "metadata": {},
   "outputs": [
    {
     "data": {
      "text/plain": [
       "(165711, 20)"
      ]
     },
     "execution_count": 2,
     "metadata": {},
     "output_type": "execute_result"
    }
   ],
   "source": [
    "df = pd.read_csv(\"Cleaned_Spotify.csv\")\n",
    "df.shape"
   ]
  },
  {
   "cell_type": "code",
   "execution_count": 3,
   "id": "8e1d16e6-2bc5-45cb-90a8-67283098eeb7",
   "metadata": {},
   "outputs": [
    {
     "data": {
      "text/html": [
       "<div>\n",
       "<style scoped>\n",
       "    .dataframe tbody tr th:only-of-type {\n",
       "        vertical-align: middle;\n",
       "    }\n",
       "\n",
       "    .dataframe tbody tr th {\n",
       "        vertical-align: top;\n",
       "    }\n",
       "\n",
       "    .dataframe thead th {\n",
       "        text-align: right;\n",
       "    }\n",
       "</style>\n",
       "<table border=\"1\" class=\"dataframe\">\n",
       "  <thead>\n",
       "    <tr style=\"text-align: right;\">\n",
       "      <th></th>\n",
       "      <th>Unnamed: 0</th>\n",
       "      <th>acousticness</th>\n",
       "      <th>artists</th>\n",
       "      <th>danceability</th>\n",
       "      <th>duration_ms</th>\n",
       "      <th>energy</th>\n",
       "      <th>explicit</th>\n",
       "      <th>id</th>\n",
       "      <th>instrumentalness</th>\n",
       "      <th>key</th>\n",
       "      <th>liveness</th>\n",
       "      <th>loudness</th>\n",
       "      <th>mode</th>\n",
       "      <th>name</th>\n",
       "      <th>popularity</th>\n",
       "      <th>release_date</th>\n",
       "      <th>speechiness</th>\n",
       "      <th>tempo</th>\n",
       "      <th>valence</th>\n",
       "      <th>year</th>\n",
       "    </tr>\n",
       "  </thead>\n",
       "  <tbody>\n",
       "    <tr>\n",
       "      <th>0</th>\n",
       "      <td>1</td>\n",
       "      <td>0.995</td>\n",
       "      <td>['Carl Woitschach']</td>\n",
       "      <td>0.708</td>\n",
       "      <td>158648</td>\n",
       "      <td>0.1950</td>\n",
       "      <td>0</td>\n",
       "      <td>6KbQ3uYMLKb5jDxLF7wYDD</td>\n",
       "      <td>0.563</td>\n",
       "      <td>10</td>\n",
       "      <td>0.1510</td>\n",
       "      <td>-12.428</td>\n",
       "      <td>1</td>\n",
       "      <td>Singende Bataillone 1. Teil</td>\n",
       "      <td>0</td>\n",
       "      <td>1928</td>\n",
       "      <td>0.0506</td>\n",
       "      <td>118.469</td>\n",
       "      <td>0.7790</td>\n",
       "      <td>1928</td>\n",
       "    </tr>\n",
       "    <tr>\n",
       "      <th>1</th>\n",
       "      <td>2</td>\n",
       "      <td>0.994</td>\n",
       "      <td>['Robert Schumann', 'Vladimir Horowitz']</td>\n",
       "      <td>0.379</td>\n",
       "      <td>282133</td>\n",
       "      <td>0.0135</td>\n",
       "      <td>0</td>\n",
       "      <td>6KuQTIu1KoTTkLXKrwlLPV</td>\n",
       "      <td>0.901</td>\n",
       "      <td>8</td>\n",
       "      <td>0.0763</td>\n",
       "      <td>-28.454</td>\n",
       "      <td>1</td>\n",
       "      <td>Fantasiestücke, Op. 111: Più tosto lento</td>\n",
       "      <td>0</td>\n",
       "      <td>1928</td>\n",
       "      <td>0.0462</td>\n",
       "      <td>83.972</td>\n",
       "      <td>0.0767</td>\n",
       "      <td>1928</td>\n",
       "    </tr>\n",
       "    <tr>\n",
       "      <th>2</th>\n",
       "      <td>3</td>\n",
       "      <td>0.604</td>\n",
       "      <td>['Seweryn Goszczyński']</td>\n",
       "      <td>0.749</td>\n",
       "      <td>104300</td>\n",
       "      <td>0.2200</td>\n",
       "      <td>0</td>\n",
       "      <td>6L63VW0PibdM1HDSBoqnoM</td>\n",
       "      <td>0.000</td>\n",
       "      <td>5</td>\n",
       "      <td>0.1190</td>\n",
       "      <td>-19.924</td>\n",
       "      <td>0</td>\n",
       "      <td>Chapter 1.18 - Zamek kaniowski</td>\n",
       "      <td>0</td>\n",
       "      <td>1928</td>\n",
       "      <td>0.9290</td>\n",
       "      <td>107.177</td>\n",
       "      <td>0.8800</td>\n",
       "      <td>1928</td>\n",
       "    </tr>\n",
       "    <tr>\n",
       "      <th>3</th>\n",
       "      <td>4</td>\n",
       "      <td>0.995</td>\n",
       "      <td>['Francisco Canaro']</td>\n",
       "      <td>0.781</td>\n",
       "      <td>180760</td>\n",
       "      <td>0.1300</td>\n",
       "      <td>0</td>\n",
       "      <td>6M94FkXd15sOAOQYRnWPN8</td>\n",
       "      <td>0.887</td>\n",
       "      <td>1</td>\n",
       "      <td>0.1110</td>\n",
       "      <td>-14.734</td>\n",
       "      <td>0</td>\n",
       "      <td>Bebamos Juntos - Instrumental (Remasterizado)</td>\n",
       "      <td>0</td>\n",
       "      <td>1928</td>\n",
       "      <td>0.0926</td>\n",
       "      <td>108.003</td>\n",
       "      <td>0.7200</td>\n",
       "      <td>1928</td>\n",
       "    </tr>\n",
       "    <tr>\n",
       "      <th>4</th>\n",
       "      <td>5</td>\n",
       "      <td>0.990</td>\n",
       "      <td>['Frédéric Chopin', 'Vladimir Horowitz']</td>\n",
       "      <td>0.210</td>\n",
       "      <td>687733</td>\n",
       "      <td>0.2040</td>\n",
       "      <td>0</td>\n",
       "      <td>6N6tiFZ9vLTSOIxkj8qKrd</td>\n",
       "      <td>0.908</td>\n",
       "      <td>11</td>\n",
       "      <td>0.0980</td>\n",
       "      <td>-16.829</td>\n",
       "      <td>1</td>\n",
       "      <td>Polonaise-Fantaisie in A-Flat Major, Op. 61</td>\n",
       "      <td>1</td>\n",
       "      <td>1928</td>\n",
       "      <td>0.0424</td>\n",
       "      <td>62.149</td>\n",
       "      <td>0.0693</td>\n",
       "      <td>1928</td>\n",
       "    </tr>\n",
       "  </tbody>\n",
       "</table>\n",
       "</div>"
      ],
      "text/plain": [
       "   Unnamed: 0  acousticness                                   artists  \\\n",
       "0           1         0.995                       ['Carl Woitschach']   \n",
       "1           2         0.994  ['Robert Schumann', 'Vladimir Horowitz']   \n",
       "2           3         0.604                   ['Seweryn Goszczyński']   \n",
       "3           4         0.995                      ['Francisco Canaro']   \n",
       "4           5         0.990  ['Frédéric Chopin', 'Vladimir Horowitz']   \n",
       "\n",
       "   danceability  duration_ms  energy  explicit                      id  \\\n",
       "0         0.708       158648  0.1950         0  6KbQ3uYMLKb5jDxLF7wYDD   \n",
       "1         0.379       282133  0.0135         0  6KuQTIu1KoTTkLXKrwlLPV   \n",
       "2         0.749       104300  0.2200         0  6L63VW0PibdM1HDSBoqnoM   \n",
       "3         0.781       180760  0.1300         0  6M94FkXd15sOAOQYRnWPN8   \n",
       "4         0.210       687733  0.2040         0  6N6tiFZ9vLTSOIxkj8qKrd   \n",
       "\n",
       "   instrumentalness  key  liveness  loudness  mode  \\\n",
       "0             0.563   10    0.1510   -12.428     1   \n",
       "1             0.901    8    0.0763   -28.454     1   \n",
       "2             0.000    5    0.1190   -19.924     0   \n",
       "3             0.887    1    0.1110   -14.734     0   \n",
       "4             0.908   11    0.0980   -16.829     1   \n",
       "\n",
       "                                            name  popularity  release_date  \\\n",
       "0                    Singende Bataillone 1. Teil           0          1928   \n",
       "1       Fantasiestücke, Op. 111: Più tosto lento           0          1928   \n",
       "2                 Chapter 1.18 - Zamek kaniowski           0          1928   \n",
       "3  Bebamos Juntos - Instrumental (Remasterizado)           0          1928   \n",
       "4    Polonaise-Fantaisie in A-Flat Major, Op. 61           1          1928   \n",
       "\n",
       "   speechiness    tempo  valence  year  \n",
       "0       0.0506  118.469   0.7790  1928  \n",
       "1       0.0462   83.972   0.0767  1928  \n",
       "2       0.9290  107.177   0.8800  1928  \n",
       "3       0.0926  108.003   0.7200  1928  \n",
       "4       0.0424   62.149   0.0693  1928  "
      ]
     },
     "execution_count": 3,
     "metadata": {},
     "output_type": "execute_result"
    }
   ],
   "source": [
    "df.head()"
   ]
  },
  {
   "cell_type": "code",
   "execution_count": 4,
   "id": "1c04e095-9320-4285-b754-0fbaa6f13d7e",
   "metadata": {},
   "outputs": [
    {
     "name": "stdout",
     "output_type": "stream",
     "text": [
      "<class 'pandas.core.frame.DataFrame'>\n",
      "RangeIndex: 165711 entries, 0 to 165710\n",
      "Data columns (total 20 columns):\n",
      " #   Column            Non-Null Count   Dtype  \n",
      "---  ------            --------------   -----  \n",
      " 0   Unnamed: 0        165711 non-null  int64  \n",
      " 1   acousticness      165711 non-null  float64\n",
      " 2   artists           165711 non-null  object \n",
      " 3   danceability      165711 non-null  float64\n",
      " 4   duration_ms       165711 non-null  int64  \n",
      " 5   energy            165711 non-null  float64\n",
      " 6   explicit          165711 non-null  int64  \n",
      " 7   id                165711 non-null  object \n",
      " 8   instrumentalness  165711 non-null  float64\n",
      " 9   key               165711 non-null  int64  \n",
      " 10  liveness          165711 non-null  float64\n",
      " 11  loudness          165711 non-null  float64\n",
      " 12  mode              165711 non-null  int64  \n",
      " 13  name              165711 non-null  object \n",
      " 14  popularity        165711 non-null  int64  \n",
      " 15  release_date      165711 non-null  int64  \n",
      " 16  speechiness       165711 non-null  float64\n",
      " 17  tempo             165711 non-null  float64\n",
      " 18  valence           165711 non-null  float64\n",
      " 19  year              165711 non-null  int64  \n",
      "dtypes: float64(9), int64(8), object(3)\n",
      "memory usage: 25.3+ MB\n"
     ]
    }
   ],
   "source": [
    "df.info()"
   ]
  },
  {
   "cell_type": "code",
   "execution_count": 5,
   "id": "64f25d46-7d22-4c6a-8582-3bc8296cd6b8",
   "metadata": {},
   "outputs": [
    {
     "data": {
      "text/plain": [
       "Index(['Unnamed: 0', 'acousticness', 'artists', 'danceability', 'duration_ms',\n",
       "       'energy', 'explicit', 'id', 'instrumentalness', 'key', 'liveness',\n",
       "       'loudness', 'mode', 'name', 'popularity', 'release_date', 'speechiness',\n",
       "       'tempo', 'valence', 'year'],\n",
       "      dtype='object')"
      ]
     },
     "execution_count": 5,
     "metadata": {},
     "output_type": "execute_result"
    }
   ],
   "source": [
    "df.describe()\n",
    "df.columns"
   ]
  },
  {
   "cell_type": "code",
   "execution_count": 6,
   "id": "b66c1740-ad19-487d-9e42-2cc2cc7bd86d",
   "metadata": {},
   "outputs": [
    {
     "data": {
      "text/html": [
       "<div>\n",
       "<style scoped>\n",
       "    .dataframe tbody tr th:only-of-type {\n",
       "        vertical-align: middle;\n",
       "    }\n",
       "\n",
       "    .dataframe tbody tr th {\n",
       "        vertical-align: top;\n",
       "    }\n",
       "\n",
       "    .dataframe thead th {\n",
       "        text-align: right;\n",
       "    }\n",
       "</style>\n",
       "<table border=\"1\" class=\"dataframe\">\n",
       "  <thead>\n",
       "    <tr style=\"text-align: right;\">\n",
       "      <th></th>\n",
       "      <th>acousticness</th>\n",
       "      <th>danceability</th>\n",
       "      <th>duration_ms</th>\n",
       "      <th>energy</th>\n",
       "      <th>explicit</th>\n",
       "      <th>instrumentalness</th>\n",
       "      <th>key</th>\n",
       "      <th>liveness</th>\n",
       "      <th>loudness</th>\n",
       "      <th>mode</th>\n",
       "      <th>release_date</th>\n",
       "      <th>speechiness</th>\n",
       "      <th>tempo</th>\n",
       "      <th>valence</th>\n",
       "    </tr>\n",
       "  </thead>\n",
       "  <tbody>\n",
       "    <tr>\n",
       "      <th>count</th>\n",
       "      <td>1.657110e+05</td>\n",
       "      <td>1.657110e+05</td>\n",
       "      <td>1.657110e+05</td>\n",
       "      <td>1.657110e+05</td>\n",
       "      <td>1.657110e+05</td>\n",
       "      <td>1.657110e+05</td>\n",
       "      <td>1.657110e+05</td>\n",
       "      <td>1.657110e+05</td>\n",
       "      <td>1.657110e+05</td>\n",
       "      <td>1.657110e+05</td>\n",
       "      <td>1.657110e+05</td>\n",
       "      <td>1.657110e+05</td>\n",
       "      <td>1.657110e+05</td>\n",
       "      <td>1.657110e+05</td>\n",
       "    </tr>\n",
       "    <tr>\n",
       "      <th>mean</th>\n",
       "      <td>-1.261282e-16</td>\n",
       "      <td>-4.478957e-16</td>\n",
       "      <td>-5.716448e-17</td>\n",
       "      <td>-2.945720e-16</td>\n",
       "      <td>3.284325e-15</td>\n",
       "      <td>-2.354981e-15</td>\n",
       "      <td>-1.007904e-15</td>\n",
       "      <td>-1.392142e-17</td>\n",
       "      <td>3.627683e-16</td>\n",
       "      <td>-2.237845e-15</td>\n",
       "      <td>-1.570656e-15</td>\n",
       "      <td>-4.102025e-17</td>\n",
       "      <td>7.796022e-16</td>\n",
       "      <td>-5.479977e-16</td>\n",
       "    </tr>\n",
       "    <tr>\n",
       "      <th>std</th>\n",
       "      <td>1.000003e+00</td>\n",
       "      <td>1.000003e+00</td>\n",
       "      <td>1.000003e+00</td>\n",
       "      <td>1.000003e+00</td>\n",
       "      <td>1.000003e+00</td>\n",
       "      <td>1.000003e+00</td>\n",
       "      <td>1.000003e+00</td>\n",
       "      <td>1.000003e+00</td>\n",
       "      <td>1.000003e+00</td>\n",
       "      <td>1.000003e+00</td>\n",
       "      <td>1.000003e+00</td>\n",
       "      <td>1.000003e+00</td>\n",
       "      <td>1.000003e+00</td>\n",
       "      <td>1.000003e+00</td>\n",
       "    </tr>\n",
       "    <tr>\n",
       "      <th>min</th>\n",
       "      <td>-1.307701e+00</td>\n",
       "      <td>-3.054644e+00</td>\n",
       "      <td>-1.874254e+00</td>\n",
       "      <td>-1.848972e+00</td>\n",
       "      <td>-2.835776e-01</td>\n",
       "      <td>-5.284486e-01</td>\n",
       "      <td>-1.482646e+00</td>\n",
       "      <td>-1.162363e+00</td>\n",
       "      <td>-8.657242e+00</td>\n",
       "      <td>-1.563922e+00</td>\n",
       "      <td>-2.244374e+00</td>\n",
       "      <td>-6.995441e-01</td>\n",
       "      <td>-3.810761e+00</td>\n",
       "      <td>-2.015495e+00</td>\n",
       "    </tr>\n",
       "    <tr>\n",
       "      <th>25%</th>\n",
       "      <td>-1.061271e+00</td>\n",
       "      <td>-6.924495e-01</td>\n",
       "      <td>-4.986069e-01</td>\n",
       "      <td>-8.377459e-01</td>\n",
       "      <td>-2.835776e-01</td>\n",
       "      <td>-5.284486e-01</td>\n",
       "      <td>-9.125517e-01</td>\n",
       "      <td>-6.085234e-01</td>\n",
       "      <td>-5.347030e-01</td>\n",
       "      <td>-1.563922e+00</td>\n",
       "      <td>-7.834238e-01</td>\n",
       "      <td>-4.105352e-01</td>\n",
       "      <td>-7.605565e-01</td>\n",
       "      <td>-8.022640e-01</td>\n",
       "    </tr>\n",
       "    <tr>\n",
       "      <th>50%</th>\n",
       "      <td>4.989425e-05</td>\n",
       "      <td>5.320717e-02</td>\n",
       "      <td>-1.913946e-01</td>\n",
       "      <td>-2.127456e-02</td>\n",
       "      <td>-2.835776e-01</td>\n",
       "      <td>-5.277027e-01</td>\n",
       "      <td>-5.740990e-02</td>\n",
       "      <td>-4.050719e-01</td>\n",
       "      <td>1.575255e-01</td>\n",
       "      <td>6.394181e-01</td>\n",
       "      <td>4.576422e-02</td>\n",
       "      <td>-3.285527e-01</td>\n",
       "      <td>-6.989564e-02</td>\n",
       "      <td>4.320602e-02</td>\n",
       "    </tr>\n",
       "    <tr>\n",
       "      <th>75%</th>\n",
       "      <td>1.047842e+00</td>\n",
       "      <td>7.305594e-01</td>\n",
       "      <td>2.562669e-01</td>\n",
       "      <td>8.251590e-01</td>\n",
       "      <td>-2.835776e-01</td>\n",
       "      <td>-2.217296e-01</td>\n",
       "      <td>7.977319e-01</td>\n",
       "      <td>3.070081e-01</td>\n",
       "      <td>7.460175e-01</td>\n",
       "      <td>6.394181e-01</td>\n",
       "      <td>8.354671e-01</td>\n",
       "      <td>-9.171435e-02</td>\n",
       "      <td>6.117474e-01</td>\n",
       "      <td>8.355973e-01</td>\n",
       "    </tr>\n",
       "    <tr>\n",
       "      <th>max</th>\n",
       "      <td>1.334327e+00</td>\n",
       "      <td>2.569087e+00</td>\n",
       "      <td>4.251687e+01</td>\n",
       "      <td>1.896309e+00</td>\n",
       "      <td>3.526372e+00</td>\n",
       "      <td>2.686636e+00</td>\n",
       "      <td>1.652874e+00</td>\n",
       "      <td>4.489066e+00</td>\n",
       "      <td>2.685394e+00</td>\n",
       "      <td>6.394181e-01</td>\n",
       "      <td>1.664655e+00</td>\n",
       "      <td>7.316522e+00</td>\n",
       "      <td>4.135697e+00</td>\n",
       "      <td>1.775851e+00</td>\n",
       "    </tr>\n",
       "  </tbody>\n",
       "</table>\n",
       "</div>"
      ],
      "text/plain": [
       "       acousticness  danceability   duration_ms        energy      explicit  \\\n",
       "count  1.657110e+05  1.657110e+05  1.657110e+05  1.657110e+05  1.657110e+05   \n",
       "mean  -1.261282e-16 -4.478957e-16 -5.716448e-17 -2.945720e-16  3.284325e-15   \n",
       "std    1.000003e+00  1.000003e+00  1.000003e+00  1.000003e+00  1.000003e+00   \n",
       "min   -1.307701e+00 -3.054644e+00 -1.874254e+00 -1.848972e+00 -2.835776e-01   \n",
       "25%   -1.061271e+00 -6.924495e-01 -4.986069e-01 -8.377459e-01 -2.835776e-01   \n",
       "50%    4.989425e-05  5.320717e-02 -1.913946e-01 -2.127456e-02 -2.835776e-01   \n",
       "75%    1.047842e+00  7.305594e-01  2.562669e-01  8.251590e-01 -2.835776e-01   \n",
       "max    1.334327e+00  2.569087e+00  4.251687e+01  1.896309e+00  3.526372e+00   \n",
       "\n",
       "       instrumentalness           key      liveness      loudness  \\\n",
       "count      1.657110e+05  1.657110e+05  1.657110e+05  1.657110e+05   \n",
       "mean      -2.354981e-15 -1.007904e-15 -1.392142e-17  3.627683e-16   \n",
       "std        1.000003e+00  1.000003e+00  1.000003e+00  1.000003e+00   \n",
       "min       -5.284486e-01 -1.482646e+00 -1.162363e+00 -8.657242e+00   \n",
       "25%       -5.284486e-01 -9.125517e-01 -6.085234e-01 -5.347030e-01   \n",
       "50%       -5.277027e-01 -5.740990e-02 -4.050719e-01  1.575255e-01   \n",
       "75%       -2.217296e-01  7.977319e-01  3.070081e-01  7.460175e-01   \n",
       "max        2.686636e+00  1.652874e+00  4.489066e+00  2.685394e+00   \n",
       "\n",
       "               mode  release_date   speechiness         tempo       valence  \n",
       "count  1.657110e+05  1.657110e+05  1.657110e+05  1.657110e+05  1.657110e+05  \n",
       "mean  -2.237845e-15 -1.570656e-15 -4.102025e-17  7.796022e-16 -5.479977e-16  \n",
       "std    1.000003e+00  1.000003e+00  1.000003e+00  1.000003e+00  1.000003e+00  \n",
       "min   -1.563922e+00 -2.244374e+00 -6.995441e-01 -3.810761e+00 -2.015495e+00  \n",
       "25%   -1.563922e+00 -7.834238e-01 -4.105352e-01 -7.605565e-01 -8.022640e-01  \n",
       "50%    6.394181e-01  4.576422e-02 -3.285527e-01 -6.989564e-02  4.320602e-02  \n",
       "75%    6.394181e-01  8.354671e-01 -9.171435e-02  6.117474e-01  8.355973e-01  \n",
       "max    6.394181e-01  1.664655e+00  7.316522e+00  4.135697e+00  1.775851e+00  "
      ]
     },
     "execution_count": 6,
     "metadata": {},
     "output_type": "execute_result"
    }
   ],
   "source": [
    "df_features = ['acousticness','danceability','duration_ms','energy','explicit','instrumentalness','key','liveness','loudness','mode','release_date','speechiness','tempo','valence']\n",
    "from sklearn.preprocessing import StandardScaler\n",
    "scaler = StandardScaler().fit(df[df_features])\n",
    "df[df_features] = scaler.transform(df[df_features])\n",
    "df[df_features] = pd.DataFrame(df[df_features], columns= df_features)\n",
    "df[df_features]\n",
    "df_data = df[df_features] \n",
    "df_data.shape\n",
    "df_data.describe()"
   ]
  },
  {
   "cell_type": "code",
   "execution_count": 8,
   "id": "521d4f7a",
   "metadata": {},
   "outputs": [
    {
     "data": {
      "text/html": [
       "<div>\n",
       "<style scoped>\n",
       "    .dataframe tbody tr th:only-of-type {\n",
       "        vertical-align: middle;\n",
       "    }\n",
       "\n",
       "    .dataframe tbody tr th {\n",
       "        vertical-align: top;\n",
       "    }\n",
       "\n",
       "    .dataframe thead th {\n",
       "        text-align: right;\n",
       "    }\n",
       "</style>\n",
       "<table border=\"1\" class=\"dataframe\">\n",
       "  <thead>\n",
       "    <tr style=\"text-align: right;\">\n",
       "      <th></th>\n",
       "      <th>acousticness</th>\n",
       "      <th>danceability</th>\n",
       "      <th>duration_ms</th>\n",
       "      <th>energy</th>\n",
       "      <th>explicit</th>\n",
       "      <th>instrumentalness</th>\n",
       "      <th>key</th>\n",
       "      <th>liveness</th>\n",
       "      <th>loudness</th>\n",
       "      <th>mode</th>\n",
       "      <th>release_date</th>\n",
       "      <th>speechiness</th>\n",
       "      <th>tempo</th>\n",
       "      <th>valence</th>\n",
       "    </tr>\n",
       "  </thead>\n",
       "  <tbody>\n",
       "    <tr>\n",
       "      <th>0</th>\n",
       "      <td>1.331674</td>\n",
       "      <td>0.975317</td>\n",
       "      <td>-0.611690</td>\n",
       "      <td>-1.118642</td>\n",
       "      <td>-0.283578</td>\n",
       "      <td>1.281644</td>\n",
       "      <td>1.367826</td>\n",
       "      <td>-0.308998</td>\n",
       "      <td>-0.206974</td>\n",
       "      <td>0.639418</td>\n",
       "      <td>-1.967978</td>\n",
       "      <td>-0.280523</td>\n",
       "      <td>0.046034</td>\n",
       "      <td>0.937964</td>\n",
       "    </tr>\n",
       "    <tr>\n",
       "      <th>1</th>\n",
       "      <td>1.329022</td>\n",
       "      <td>-0.897363</td>\n",
       "      <td>0.403730</td>\n",
       "      <td>-1.798410</td>\n",
       "      <td>-0.283578</td>\n",
       "      <td>2.368342</td>\n",
       "      <td>0.797732</td>\n",
       "      <td>-0.731159</td>\n",
       "      <td>-3.053690</td>\n",
       "      <td>0.639418</td>\n",
       "      <td>-1.967978</td>\n",
       "      <td>-0.316959</td>\n",
       "      <td>-1.077027</td>\n",
       "      <td>-1.724698</td>\n",
       "    </tr>\n",
       "    <tr>\n",
       "      <th>2</th>\n",
       "      <td>0.294493</td>\n",
       "      <td>1.208690</td>\n",
       "      <td>-1.058595</td>\n",
       "      <td>-1.025010</td>\n",
       "      <td>-0.283578</td>\n",
       "      <td>-0.528449</td>\n",
       "      <td>-0.057410</td>\n",
       "      <td>-0.489843</td>\n",
       "      <td>-1.538497</td>\n",
       "      <td>-1.563922</td>\n",
       "      <td>-1.967978</td>\n",
       "      <td>6.993561</td>\n",
       "      <td>-0.321581</td>\n",
       "      <td>1.320889</td>\n",
       "    </tr>\n",
       "    <tr>\n",
       "      <th>3</th>\n",
       "      <td>1.331674</td>\n",
       "      <td>1.390836</td>\n",
       "      <td>-0.429862</td>\n",
       "      <td>-1.362085</td>\n",
       "      <td>-0.283578</td>\n",
       "      <td>2.323331</td>\n",
       "      <td>-1.197599</td>\n",
       "      <td>-0.535055</td>\n",
       "      <td>-0.616591</td>\n",
       "      <td>-1.563922</td>\n",
       "      <td>-1.967978</td>\n",
       "      <td>0.067282</td>\n",
       "      <td>-0.294690</td>\n",
       "      <td>0.714274</td>\n",
       "    </tr>\n",
       "    <tr>\n",
       "      <th>4</th>\n",
       "      <td>1.318411</td>\n",
       "      <td>-1.859317</td>\n",
       "      <td>3.738990</td>\n",
       "      <td>-1.084934</td>\n",
       "      <td>-0.283578</td>\n",
       "      <td>2.390848</td>\n",
       "      <td>1.652874</td>\n",
       "      <td>-0.608523</td>\n",
       "      <td>-0.988728</td>\n",
       "      <td>0.639418</td>\n",
       "      <td>-1.967978</td>\n",
       "      <td>-0.348427</td>\n",
       "      <td>-1.787481</td>\n",
       "      <td>-1.752754</td>\n",
       "    </tr>\n",
       "    <tr>\n",
       "      <th>...</th>\n",
       "      <td>...</td>\n",
       "      <td>...</td>\n",
       "      <td>...</td>\n",
       "      <td>...</td>\n",
       "      <td>...</td>\n",
       "      <td>...</td>\n",
       "      <td>...</td>\n",
       "      <td>...</td>\n",
       "      <td>...</td>\n",
       "      <td>...</td>\n",
       "      <td>...</td>\n",
       "      <td>...</td>\n",
       "      <td>...</td>\n",
       "      <td>...</td>\n",
       "    </tr>\n",
       "    <tr>\n",
       "      <th>165706</th>\n",
       "      <td>-0.848794</td>\n",
       "      <td>1.925887</td>\n",
       "      <td>-0.569325</td>\n",
       "      <td>-0.189812</td>\n",
       "      <td>3.526372</td>\n",
       "      <td>-0.528344</td>\n",
       "      <td>-1.197599</td>\n",
       "      <td>-0.658821</td>\n",
       "      <td>0.675320</td>\n",
       "      <td>0.639418</td>\n",
       "      <td>1.664655</td>\n",
       "      <td>0.484647</td>\n",
       "      <td>-0.554840</td>\n",
       "      <td>-0.855343</td>\n",
       "    </tr>\n",
       "    <tr>\n",
       "      <th>165707</th>\n",
       "      <td>-1.263402</td>\n",
       "      <td>1.037929</td>\n",
       "      <td>-0.539163</td>\n",
       "      <td>-0.407039</td>\n",
       "      <td>-0.283578</td>\n",
       "      <td>-0.427816</td>\n",
       "      <td>0.797732</td>\n",
       "      <td>-0.535055</td>\n",
       "      <td>0.063203</td>\n",
       "      <td>0.639418</td>\n",
       "      <td>1.664655</td>\n",
       "      <td>-0.365817</td>\n",
       "      <td>0.356318</td>\n",
       "      <td>-0.991831</td>\n",
       "    </tr>\n",
       "    <tr>\n",
       "      <th>165708</th>\n",
       "      <td>0.119419</td>\n",
       "      <td>-0.128938</td>\n",
       "      <td>-0.430356</td>\n",
       "      <td>0.169735</td>\n",
       "      <td>-0.283578</td>\n",
       "      <td>-0.520957</td>\n",
       "      <td>0.512685</td>\n",
       "      <td>-0.552009</td>\n",
       "      <td>0.342972</td>\n",
       "      <td>0.639418</td>\n",
       "      <td>1.664655</td>\n",
       "      <td>0.169967</td>\n",
       "      <td>0.216331</td>\n",
       "      <td>-1.435419</td>\n",
       "    </tr>\n",
       "    <tr>\n",
       "      <th>165709</th>\n",
       "      <td>-1.118302</td>\n",
       "      <td>0.622411</td>\n",
       "      <td>-0.540479</td>\n",
       "      <td>1.001187</td>\n",
       "      <td>-0.283578</td>\n",
       "      <td>-0.528449</td>\n",
       "      <td>-1.197599</td>\n",
       "      <td>0.092254</td>\n",
       "      <td>1.546423</td>\n",
       "      <td>0.639418</td>\n",
       "      <td>1.664655</td>\n",
       "      <td>-0.380723</td>\n",
       "      <td>0.418694</td>\n",
       "      <td>-0.225980</td>\n",
       "    </tr>\n",
       "    <tr>\n",
       "      <th>165710</th>\n",
       "      <td>-1.018563</td>\n",
       "      <td>-0.140322</td>\n",
       "      <td>-0.150057</td>\n",
       "      <td>-0.245991</td>\n",
       "      <td>-0.283578</td>\n",
       "      <td>-0.528449</td>\n",
       "      <td>-1.482646</td>\n",
       "      <td>-0.568963</td>\n",
       "      <td>0.688465</td>\n",
       "      <td>0.639418</td>\n",
       "      <td>1.664655</td>\n",
       "      <td>-0.475127</td>\n",
       "      <td>-1.187194</td>\n",
       "      <td>-0.627862</td>\n",
       "    </tr>\n",
       "  </tbody>\n",
       "</table>\n",
       "<p>165711 rows × 14 columns</p>\n",
       "</div>"
      ],
      "text/plain": [
       "        acousticness  danceability  duration_ms    energy  explicit  \\\n",
       "0           1.331674      0.975317    -0.611690 -1.118642 -0.283578   \n",
       "1           1.329022     -0.897363     0.403730 -1.798410 -0.283578   \n",
       "2           0.294493      1.208690    -1.058595 -1.025010 -0.283578   \n",
       "3           1.331674      1.390836    -0.429862 -1.362085 -0.283578   \n",
       "4           1.318411     -1.859317     3.738990 -1.084934 -0.283578   \n",
       "...              ...           ...          ...       ...       ...   \n",
       "165706     -0.848794      1.925887    -0.569325 -0.189812  3.526372   \n",
       "165707     -1.263402      1.037929    -0.539163 -0.407039 -0.283578   \n",
       "165708      0.119419     -0.128938    -0.430356  0.169735 -0.283578   \n",
       "165709     -1.118302      0.622411    -0.540479  1.001187 -0.283578   \n",
       "165710     -1.018563     -0.140322    -0.150057 -0.245991 -0.283578   \n",
       "\n",
       "        instrumentalness       key  liveness  loudness      mode  \\\n",
       "0               1.281644  1.367826 -0.308998 -0.206974  0.639418   \n",
       "1               2.368342  0.797732 -0.731159 -3.053690  0.639418   \n",
       "2              -0.528449 -0.057410 -0.489843 -1.538497 -1.563922   \n",
       "3               2.323331 -1.197599 -0.535055 -0.616591 -1.563922   \n",
       "4               2.390848  1.652874 -0.608523 -0.988728  0.639418   \n",
       "...                  ...       ...       ...       ...       ...   \n",
       "165706         -0.528344 -1.197599 -0.658821  0.675320  0.639418   \n",
       "165707         -0.427816  0.797732 -0.535055  0.063203  0.639418   \n",
       "165708         -0.520957  0.512685 -0.552009  0.342972  0.639418   \n",
       "165709         -0.528449 -1.197599  0.092254  1.546423  0.639418   \n",
       "165710         -0.528449 -1.482646 -0.568963  0.688465  0.639418   \n",
       "\n",
       "        release_date  speechiness     tempo   valence  \n",
       "0          -1.967978    -0.280523  0.046034  0.937964  \n",
       "1          -1.967978    -0.316959 -1.077027 -1.724698  \n",
       "2          -1.967978     6.993561 -0.321581  1.320889  \n",
       "3          -1.967978     0.067282 -0.294690  0.714274  \n",
       "4          -1.967978    -0.348427 -1.787481 -1.752754  \n",
       "...              ...          ...       ...       ...  \n",
       "165706      1.664655     0.484647 -0.554840 -0.855343  \n",
       "165707      1.664655    -0.365817  0.356318 -0.991831  \n",
       "165708      1.664655     0.169967  0.216331 -1.435419  \n",
       "165709      1.664655    -0.380723  0.418694 -0.225980  \n",
       "165710      1.664655    -0.475127 -1.187194 -0.627862  \n",
       "\n",
       "[165711 rows x 14 columns]"
      ]
     },
     "execution_count": 8,
     "metadata": {},
     "output_type": "execute_result"
    }
   ],
   "source": [
    "df_data"
   ]
  },
  {
   "cell_type": "code",
   "execution_count": 10,
   "id": "4e17a264-2f9f-4c6f-b6b2-a9533ca0d830",
   "metadata": {},
   "outputs": [],
   "source": [
    "df['popularity_bi'] = [1 if x >= 50 else 0 for x in df['popularity']]\n",
    "df['popularity_multi'] = [2 if x >= 50 else 1 if x >= 25 else 0 for x in df['popularity']]"
   ]
  },
  {
   "cell_type": "code",
   "execution_count": 102,
   "id": "6acb0834-21a2-4b27-9745-990800c35a93",
   "metadata": {},
   "outputs": [
    {
     "data": {
      "image/png": "[encoded data removed]",
      "text/plain": [
       "<Figure size 1800x720 with 1 Axes>"
      ]
     },
     "metadata": {
      "needs_background": "light"
     },
     "output_type": "display_data"
    },
    {
     "data": {
      "image/png": "[encoded data removed]",
      "text/plain": [
       "<Figure size 720x720 with 1 Axes>"
      ]
     },
     "metadata": {
      "needs_background": "light"
     },
     "output_type": "display_data"
    },
    {
     "data": {
      "image/png": "[encoded data removed]",
      "text/plain": [
       "<Figure size 432x216 with 1 Axes>"
      ]
     },
     "metadata": {
      "needs_background": "light"
     },
     "output_type": "display_data"
    }
   ],
   "source": [
    "popularity = pd.DataFrame(df[['popularity']].value_counts())\n",
    "popularity.reset_index(inplace=True)\n",
    "popularity = popularity.rename(columns = {'index':'popularity', 0:\"count\"})\n",
    "\n",
    "popularity_bi = pd.DataFrame(df[['popularity_bi']].value_counts())\n",
    "popularity_bi.reset_index(inplace=True)\n",
    "popularity_bi = popularity_bi.rename(columns = {'index':'popularity_bi', 0:\"count\"})\n",
    "\n",
    "popularity_multi = pd.DataFrame(df[['popularity_multi']].value_counts())\n",
    "popularity_multi.reset_index(inplace=True)\n",
    "popularity_multi = popularity_multi.rename(columns = {'index':'popularity_multi', 0:\"count\"})\n",
    "\n",
    "\n",
    "plt.figure(figsize=(25,10))\n",
    "plt.bar(popularity['popularity'],popularity['count'])\n",
    "plt.show()\n",
    "\n",
    "plt.figure(figsize=(10,10))\n",
    "plt.bar(popularity_bi['popularity_bi'],popularity_bi['count'])\n",
    "plt.show()\n",
    "\n",
    "plt.figure(figsize=(6,3))\n",
    "plt.bar(popularity_multi['popularity_multi'],popularity_multi['count'])\n",
    "plt.show()"
   ]
  },
  {
   "cell_type": "code",
   "execution_count": 12,
   "id": "619d5926-ce74-4081-a3a8-de26279cdedc",
   "metadata": {},
   "outputs": [
    {
     "name": "stdout",
     "output_type": "stream",
     "text": [
      "(165711, 3)\n"
     ]
    },
    {
     "data": {
      "text/html": [
       "<div>\n",
       "<style scoped>\n",
       "    .dataframe tbody tr th:only-of-type {\n",
       "        vertical-align: middle;\n",
       "    }\n",
       "\n",
       "    .dataframe tbody tr th {\n",
       "        vertical-align: top;\n",
       "    }\n",
       "\n",
       "    .dataframe thead th {\n",
       "        text-align: right;\n",
       "    }\n",
       "</style>\n",
       "<table border=\"1\" class=\"dataframe\">\n",
       "  <thead>\n",
       "    <tr style=\"text-align: right;\">\n",
       "      <th></th>\n",
       "      <th>popularity</th>\n",
       "      <th>popularity_bi</th>\n",
       "      <th>popularity_multi</th>\n",
       "    </tr>\n",
       "  </thead>\n",
       "  <tbody>\n",
       "    <tr>\n",
       "      <th>count</th>\n",
       "      <td>165711.000000</td>\n",
       "      <td>165711.000000</td>\n",
       "      <td>165711.000000</td>\n",
       "    </tr>\n",
       "    <tr>\n",
       "      <th>mean</th>\n",
       "      <td>32.058687</td>\n",
       "      <td>0.230468</td>\n",
       "      <td>0.877793</td>\n",
       "    </tr>\n",
       "    <tr>\n",
       "      <th>std</th>\n",
       "      <td>21.404763</td>\n",
       "      <td>0.421133</td>\n",
       "      <td>0.753798</td>\n",
       "    </tr>\n",
       "    <tr>\n",
       "      <th>min</th>\n",
       "      <td>0.000000</td>\n",
       "      <td>0.000000</td>\n",
       "      <td>0.000000</td>\n",
       "    </tr>\n",
       "    <tr>\n",
       "      <th>25%</th>\n",
       "      <td>14.000000</td>\n",
       "      <td>0.000000</td>\n",
       "      <td>0.000000</td>\n",
       "    </tr>\n",
       "    <tr>\n",
       "      <th>50%</th>\n",
       "      <td>34.000000</td>\n",
       "      <td>0.000000</td>\n",
       "      <td>1.000000</td>\n",
       "    </tr>\n",
       "    <tr>\n",
       "      <th>75%</th>\n",
       "      <td>48.000000</td>\n",
       "      <td>0.000000</td>\n",
       "      <td>1.000000</td>\n",
       "    </tr>\n",
       "    <tr>\n",
       "      <th>max</th>\n",
       "      <td>100.000000</td>\n",
       "      <td>1.000000</td>\n",
       "      <td>2.000000</td>\n",
       "    </tr>\n",
       "  </tbody>\n",
       "</table>\n",
       "</div>"
      ],
      "text/plain": [
       "          popularity  popularity_bi  popularity_multi\n",
       "count  165711.000000  165711.000000     165711.000000\n",
       "mean       32.058687       0.230468          0.877793\n",
       "std        21.404763       0.421133          0.753798\n",
       "min         0.000000       0.000000          0.000000\n",
       "25%        14.000000       0.000000          0.000000\n",
       "50%        34.000000       0.000000          1.000000\n",
       "75%        48.000000       0.000000          1.000000\n",
       "max       100.000000       1.000000          2.000000"
      ]
     },
     "execution_count": 12,
     "metadata": {},
     "output_type": "execute_result"
    }
   ],
   "source": [
    "df_target = df[[\"popularity\",\"popularity_bi\",'popularity_multi']]\n",
    "print(df_target.shape)\n",
    "df_target.describe()"
   ]
  },
  {
   "cell_type": "code",
   "execution_count": 13,
   "id": "2340162d-1682-49e1-b78c-1a3ddf402aaf",
   "metadata": {},
   "outputs": [],
   "source": [
    "# Splitting Data\n",
    "from sklearn.model_selection import train_test_split\n",
    "x_train, x_test, y_train, y_test = train_test_split(df_data,df_target[\"popularity_bi\"] , random_state = 42, test_size= 0.30, train_size = 0.60, shuffle= True)\n",
    "x_train_1, x_test_1, y_train_1, y_test_1 = train_test_split(df_data,df_target[\"popularity_bi\"] , random_state = 42, test_size= 0.10, train_size = 0.40, shuffle= True)\n",
    "x_train_2, x_test_2, y_train_2, y_test_2 = train_test_split(df_data,df_target[\"popularity_bi\"] , random_state = 42, test_size= 0.05, train_size = 0.10, shuffle= True)\n",
    "\n",
    "x_train_3, x_test_3, y_train_3, y_test_3 = train_test_split(df_data,df_target[\"popularity_multi\"] , random_state = 42, test_size= 0.30, train_size = 0.60, shuffle= True)\n",
    "x_train_4, x_test_4, y_train_4, y_test_4 = train_test_split(df_data,df_target[\"popularity_multi\"] , random_state = 42, test_size= 0.10, train_size = 0.40, shuffle= True)\n",
    "x_train_5, x_test_5, y_train_5, y_test_5 = train_test_split(df_data,df_target[\"popularity_multi\"] , random_state = 42, test_size= 0.05, train_size = 0.10, shuffle= True)\n"
   ]
  },
  {
   "cell_type": "code",
   "execution_count": 14,
   "id": "3e85de68-a287-4371-9b2a-8878e439cfda",
   "metadata": {},
   "outputs": [
    {
     "name": "stdout",
     "output_type": "stream",
     "text": [
      "y_test\n",
      "0    38331\n",
      "1    11383\n",
      "Name: popularity_bi, dtype: int64\n",
      "y_train\n",
      "0    76530\n",
      "1    22896\n",
      "Name: popularity_bi, dtype: int64\n",
      "y_test_1\n",
      "0    12755\n",
      "1     3817\n",
      "Name: popularity_bi, dtype: int64\n",
      "y_train_1\n",
      "0    51047\n",
      "1    15237\n",
      "Name: popularity_bi, dtype: int64\n",
      "y_test_2\n",
      "0    6414\n",
      "1    1872\n",
      "Name: popularity_bi, dtype: int64\n",
      "y_train_2\n",
      "0    12738\n",
      "1     3833\n",
      "Name: popularity_bi, dtype: int64\n",
      "y_test_3\n",
      "1    20794\n",
      "0    17537\n",
      "2    11383\n",
      "Name: popularity_multi, dtype: int64\n",
      "y_train_3\n",
      "1    41447\n",
      "0    35083\n",
      "2    22896\n",
      "Name: popularity_multi, dtype: int64\n",
      "y_test_4\n",
      "1    6837\n",
      "0    5918\n",
      "2    3817\n",
      "Name: popularity_multi, dtype: int64\n",
      "y_train_4\n",
      "1    27771\n",
      "0    23276\n",
      "2    15237\n",
      "Name: popularity_multi, dtype: int64\n",
      "y_test_5\n",
      "1    3469\n",
      "0    2945\n",
      "2    1872\n",
      "Name: popularity_multi, dtype: int64\n",
      "y_train_5\n",
      "1    6785\n",
      "0    5953\n",
      "2    3833\n",
      "Name: popularity_multi, dtype: int64\n"
     ]
    }
   ],
   "source": [
    "print(\"y_test\",y_test.value_counts(), \"y_train\", y_train.value_counts(), sep= \"\\n\")\n",
    "print(\"y_test_1\",y_test_1.value_counts(), \"y_train_1\", y_train_1.value_counts(), sep= \"\\n\")\n",
    "print(\"y_test_2\",y_test_2.value_counts(), \"y_train_2\", y_train_2.value_counts(), sep= \"\\n\")\n",
    "print(\"y_test_3\",y_test_3.value_counts(), \"y_train_3\", y_train_3.value_counts(), sep= \"\\n\")\n",
    "print(\"y_test_4\",y_test_4.value_counts(), \"y_train_4\", y_train_4.value_counts(), sep= \"\\n\")\n",
    "print(\"y_test_5\",y_test_5.value_counts(), \"y_train_5\", y_train_5.value_counts(), sep= \"\\n\")"
   ]
  },
  {
   "cell_type": "markdown",
   "id": "2bec3fa7-e985-4c89-88e7-24d7704ff796",
   "metadata": {},
   "source": [
    "### Linear SVC"
   ]
  },
  {
   "cell_type": "code",
   "execution_count": 15,
   "id": "b6667425-ee8a-404e-8ff2-7d9e524cbfa9",
   "metadata": {},
   "outputs": [
    {
     "data": {
      "text/html": [
       "<style>#sk-container-id-1 {color: black;background-color: white;}#sk-container-id-1 pre{padding: 0;}#sk-container-id-1 div.sk-toggleable {background-color: white;}#sk-container-id-1 label.sk-toggleable__label {cursor: pointer;display: block;width: 100%;margin-bottom: 0;padding: 0.3em;box-sizing: border-box;text-align: center;}#sk-container-id-1 label.sk-toggleable__label-arrow:before {content: \"▸\";float: left;margin-right: 0.25em;color: #696969;}#sk-container-id-1 label.sk-toggleable__label-arrow:hover:before {color: black;}#sk-container-id-1 div.sk-estimator:hover label.sk-toggleable__label-arrow:before {color: black;}#sk-container-id-1 div.sk-toggleable__content {max-height: 0;max-width: 0;overflow: hidden;text-align: left;background-color: #f0f8ff;}#sk-container-id-1 div.sk-toggleable__content pre {margin: 0.2em;color: black;border-radius: 0.25em;background-color: #f0f8ff;}#sk-container-id-1 input.sk-toggleable__control:checked~div.sk-toggleable__content {max-height: 200px;max-width: 100%;overflow: auto;}#sk-container-id-1 input.sk-toggleable__control:checked~label.sk-toggleable__label-arrow:before {content: \"▾\";}#sk-container-id-1 div.sk-estimator input.sk-toggleable__control:checked~label.sk-toggleable__label {background-color: #d4ebff;}#sk-container-id-1 div.sk-label input.sk-toggleable__control:checked~label.sk-toggleable__label {background-color: #d4ebff;}#sk-container-id-1 input.sk-hidden--visually {border: 0;clip: rect(1px 1px 1px 1px);clip: rect(1px, 1px, 1px, 1px);height: 1px;margin: -1px;overflow: hidden;padding: 0;position: absolute;width: 1px;}#sk-container-id-1 div.sk-estimator {font-family: monospace;background-color: #f0f8ff;border: 1px dotted black;border-radius: 0.25em;box-sizing: border-box;margin-bottom: 0.5em;}#sk-container-id-1 div.sk-estimator:hover {background-color: #d4ebff;}#sk-container-id-1 div.sk-parallel-item::after {content: \"\";width: 100%;border-bottom: 1px solid gray;flex-grow: 1;}#sk-container-id-1 div.sk-label:hover label.sk-toggleable__label {background-color: #d4ebff;}#sk-container-id-1 div.sk-serial::before {content: \"\";position: absolute;border-left: 1px solid gray;box-sizing: border-box;top: 0;bottom: 0;left: 50%;z-index: 0;}#sk-container-id-1 div.sk-serial {display: flex;flex-direction: column;align-items: center;background-color: white;padding-right: 0.2em;padding-left: 0.2em;position: relative;}#sk-container-id-1 div.sk-item {position: relative;z-index: 1;}#sk-container-id-1 div.sk-parallel {display: flex;align-items: stretch;justify-content: center;background-color: white;position: relative;}#sk-container-id-1 div.sk-item::before, #sk-container-id-1 div.sk-parallel-item::before {content: \"\";position: absolute;border-left: 1px solid gray;box-sizing: border-box;top: 0;bottom: 0;left: 50%;z-index: -1;}#sk-container-id-1 div.sk-parallel-item {display: flex;flex-direction: column;z-index: 1;position: relative;background-color: white;}#sk-container-id-1 div.sk-parallel-item:first-child::after {align-self: flex-end;width: 50%;}#sk-container-id-1 div.sk-parallel-item:last-child::after {align-self: flex-start;width: 50%;}#sk-container-id-1 div.sk-parallel-item:only-child::after {width: 0;}#sk-container-id-1 div.sk-dashed-wrapped {border: 1px dashed gray;margin: 0 0.4em 0.5em 0.4em;box-sizing: border-box;padding-bottom: 0.4em;background-color: white;}#sk-container-id-1 div.sk-label label {font-family: monospace;font-weight: bold;display: inline-block;line-height: 1.2em;}#sk-container-id-1 div.sk-label-container {text-align: center;}#sk-container-id-1 div.sk-container {/* jupyter's `normalize.less` sets `[hidden] { display: none; }` but bootstrap.min.css set `[hidden] { display: none !important; }` so we also need the `!important` here to be able to override the default hidden behavior on the sphinx rendered scikit-learn.org. See: https://github.com/scikit-learn/scikit-learn/issues/21755 */display: inline-block !important;position: relative;}#sk-container-id-1 div.sk-text-repr-fallback {display: none;}</style><div id=\"sk-container-id-1\" class=\"sk-top-container\"><div class=\"sk-text-repr-fallback\"><pre>LinearSVC(dual=False, random_state=22)</pre><b>In a Jupyter environment, please rerun this cell to show the HTML representation or trust the notebook. <br />On GitHub, the HTML representation is unable to render, please try loading this page with nbviewer.org.</b></div><div class=\"sk-container\" hidden><div class=\"sk-item\"><div class=\"sk-estimator sk-toggleable\"><input class=\"sk-toggleable__control sk-hidden--visually\" id=\"sk-estimator-id-1\" type=\"checkbox\" checked><label for=\"sk-estimator-id-1\" class=\"sk-toggleable__label sk-toggleable__label-arrow\">LinearSVC</label><div class=\"sk-toggleable__content\"><pre>LinearSVC(dual=False, random_state=22)</pre></div></div></div></div></div>"
      ],
      "text/plain": [
       "LinearSVC(dual=False, random_state=22)"
      ]
     },
     "execution_count": 15,
     "metadata": {},
     "output_type": "execute_result"
    }
   ],
   "source": [
    "# Linear SVC \n",
    "from sklearn.svm import LinearSVC\n",
    "\n",
    "lr_svc = LinearSVC(random_state = 22, dual=False)\n",
    "\n",
    "lr_svc.fit(x_train, y_train)"
   ]
  },
  {
   "cell_type": "code",
   "execution_count": 16,
   "id": "3d093da4-7fa2-46f7-8642-f2b6c473c3e3",
   "metadata": {},
   "outputs": [
    {
     "data": {
      "text/plain": [
       "array([[35138,  3193],\n",
       "       [ 3883,  7500]], dtype=int64)"
      ]
     },
     "execution_count": 16,
     "metadata": {},
     "output_type": "execute_result"
    }
   ],
   "source": [
    "from sklearn.metrics import confusion_matrix\n",
    "\n",
    "lr_svc_predict = lr_svc.predict(x_test)\n",
    "\n",
    "cm = confusion_matrix(y_test, lr_svc_predict, )\n",
    "\n",
    "cm"
   ]
  },
  {
   "cell_type": "code",
   "execution_count": 17,
   "id": "52a6157e-56d4-4214-b3f3-a2c39c3e44cf",
   "metadata": {},
   "outputs": [
    {
     "data": {
      "text/plain": [
       "0.8576658486543026"
      ]
     },
     "execution_count": 17,
     "metadata": {},
     "output_type": "execute_result"
    }
   ],
   "source": [
    "lr_svc.score(x_test, y_test)"
   ]
  },
  {
   "cell_type": "code",
   "execution_count": 86,
   "id": "a3b1c13f-6b39-4ac3-8fc7-48a2a2986a53",
   "metadata": {},
   "outputs": [
    {
     "name": "stdout",
     "output_type": "stream",
     "text": [
      "Precision score: 0.7013934349574488\n",
      "Recall score: 0.6588772731265923\n",
      "Accuracy score: 0.8576658486543026\n",
      "F1 score: 0.679470918644682\n"
     ]
    }
   ],
   "source": [
    "from sklearn.metrics import precision_score, recall_score, accuracy_score, f1_score\n",
    "print('Precision score:', precision_score(y_test,lr_svc_predict))\n",
    "print('Recall score:', recall_score(y_test,lr_svc_predict))\n",
    "print('Accuracy score:', accuracy_score(y_test,lr_svc_predict))\n",
    "print('F1 score:', f1_score(y_test,lr_svc_predict))"
   ]
  },
  {
   "cell_type": "markdown",
   "id": "173c8960-f96d-457a-a951-b8892f660379",
   "metadata": {},
   "source": [
    "### Linear SVM with GridSearchCV"
   ]
  },
  {
   "cell_type": "code",
   "execution_count": 18,
   "id": "467d5038-89e3-4195-a2f0-0e6c64e683bb",
   "metadata": {},
   "outputs": [
    {
     "data": {
      "text/html": [
       "<style>#sk-container-id-2 {color: black;background-color: white;}#sk-container-id-2 pre{padding: 0;}#sk-container-id-2 div.sk-toggleable {background-color: white;}#sk-container-id-2 label.sk-toggleable__label {cursor: pointer;display: block;width: 100%;margin-bottom: 0;padding: 0.3em;box-sizing: border-box;text-align: center;}#sk-container-id-2 label.sk-toggleable__label-arrow:before {content: \"▸\";float: left;margin-right: 0.25em;color: #696969;}#sk-container-id-2 label.sk-toggleable__label-arrow:hover:before {color: black;}#sk-container-id-2 div.sk-estimator:hover label.sk-toggleable__label-arrow:before {color: black;}#sk-container-id-2 div.sk-toggleable__content {max-height: 0;max-width: 0;overflow: hidden;text-align: left;background-color: #f0f8ff;}#sk-container-id-2 div.sk-toggleable__content pre {margin: 0.2em;color: black;border-radius: 0.25em;background-color: #f0f8ff;}#sk-container-id-2 input.sk-toggleable__control:checked~div.sk-toggleable__content {max-height: 200px;max-width: 100%;overflow: auto;}#sk-container-id-2 input.sk-toggleable__control:checked~label.sk-toggleable__label-arrow:before {content: \"▾\";}#sk-container-id-2 div.sk-estimator input.sk-toggleable__control:checked~label.sk-toggleable__label {background-color: #d4ebff;}#sk-container-id-2 div.sk-label input.sk-toggleable__control:checked~label.sk-toggleable__label {background-color: #d4ebff;}#sk-container-id-2 input.sk-hidden--visually {border: 0;clip: rect(1px 1px 1px 1px);clip: rect(1px, 1px, 1px, 1px);height: 1px;margin: -1px;overflow: hidden;padding: 0;position: absolute;width: 1px;}#sk-container-id-2 div.sk-estimator {font-family: monospace;background-color: #f0f8ff;border: 1px dotted black;border-radius: 0.25em;box-sizing: border-box;margin-bottom: 0.5em;}#sk-container-id-2 div.sk-estimator:hover {background-color: #d4ebff;}#sk-container-id-2 div.sk-parallel-item::after {content: \"\";width: 100%;border-bottom: 1px solid gray;flex-grow: 1;}#sk-container-id-2 div.sk-label:hover label.sk-toggleable__label {background-color: #d4ebff;}#sk-container-id-2 div.sk-serial::before {content: \"\";position: absolute;border-left: 1px solid gray;box-sizing: border-box;top: 0;bottom: 0;left: 50%;z-index: 0;}#sk-container-id-2 div.sk-serial {display: flex;flex-direction: column;align-items: center;background-color: white;padding-right: 0.2em;padding-left: 0.2em;position: relative;}#sk-container-id-2 div.sk-item {position: relative;z-index: 1;}#sk-container-id-2 div.sk-parallel {display: flex;align-items: stretch;justify-content: center;background-color: white;position: relative;}#sk-container-id-2 div.sk-item::before, #sk-container-id-2 div.sk-parallel-item::before {content: \"\";position: absolute;border-left: 1px solid gray;box-sizing: border-box;top: 0;bottom: 0;left: 50%;z-index: -1;}#sk-container-id-2 div.sk-parallel-item {display: flex;flex-direction: column;z-index: 1;position: relative;background-color: white;}#sk-container-id-2 div.sk-parallel-item:first-child::after {align-self: flex-end;width: 50%;}#sk-container-id-2 div.sk-parallel-item:last-child::after {align-self: flex-start;width: 50%;}#sk-container-id-2 div.sk-parallel-item:only-child::after {width: 0;}#sk-container-id-2 div.sk-dashed-wrapped {border: 1px dashed gray;margin: 0 0.4em 0.5em 0.4em;box-sizing: border-box;padding-bottom: 0.4em;background-color: white;}#sk-container-id-2 div.sk-label label {font-family: monospace;font-weight: bold;display: inline-block;line-height: 1.2em;}#sk-container-id-2 div.sk-label-container {text-align: center;}#sk-container-id-2 div.sk-container {/* jupyter's `normalize.less` sets `[hidden] { display: none; }` but bootstrap.min.css set `[hidden] { display: none !important; }` so we also need the `!important` here to be able to override the default hidden behavior on the sphinx rendered scikit-learn.org. See: https://github.com/scikit-learn/scikit-learn/issues/21755 */display: inline-block !important;position: relative;}#sk-container-id-2 div.sk-text-repr-fallback {display: none;}</style><div id=\"sk-container-id-2\" class=\"sk-top-container\"><div class=\"sk-text-repr-fallback\"><pre>GridSearchCV(cv=5, estimator=LinearSVC(dual=False, random_state=22),\n",
       "             param_grid={&#x27;C&#x27;: [0.01, 0.1, 1]})</pre><b>In a Jupyter environment, please rerun this cell to show the HTML representation or trust the notebook. <br />On GitHub, the HTML representation is unable to render, please try loading this page with nbviewer.org.</b></div><div class=\"sk-container\" hidden><div class=\"sk-item sk-dashed-wrapped\"><div class=\"sk-label-container\"><div class=\"sk-label sk-toggleable\"><input class=\"sk-toggleable__control sk-hidden--visually\" id=\"sk-estimator-id-2\" type=\"checkbox\" ><label for=\"sk-estimator-id-2\" class=\"sk-toggleable__label sk-toggleable__label-arrow\">GridSearchCV</label><div class=\"sk-toggleable__content\"><pre>GridSearchCV(cv=5, estimator=LinearSVC(dual=False, random_state=22),\n",
       "             param_grid={&#x27;C&#x27;: [0.01, 0.1, 1]})</pre></div></div></div><div class=\"sk-parallel\"><div class=\"sk-parallel-item\"><div class=\"sk-item\"><div class=\"sk-label-container\"><div class=\"sk-label sk-toggleable\"><input class=\"sk-toggleable__control sk-hidden--visually\" id=\"sk-estimator-id-3\" type=\"checkbox\" ><label for=\"sk-estimator-id-3\" class=\"sk-toggleable__label sk-toggleable__label-arrow\">estimator: LinearSVC</label><div class=\"sk-toggleable__content\"><pre>LinearSVC(dual=False, random_state=22)</pre></div></div></div><div class=\"sk-serial\"><div class=\"sk-item\"><div class=\"sk-estimator sk-toggleable\"><input class=\"sk-toggleable__control sk-hidden--visually\" id=\"sk-estimator-id-4\" type=\"checkbox\" ><label for=\"sk-estimator-id-4\" class=\"sk-toggleable__label sk-toggleable__label-arrow\">LinearSVC</label><div class=\"sk-toggleable__content\"><pre>LinearSVC(dual=False, random_state=22)</pre></div></div></div></div></div></div></div></div></div></div>"
      ],
      "text/plain": [
       "GridSearchCV(cv=5, estimator=LinearSVC(dual=False, random_state=22),\n",
       "             param_grid={'C': [0.01, 0.1, 1]})"
      ]
     },
     "execution_count": 18,
     "metadata": {},
     "output_type": "execute_result"
    }
   ],
   "source": [
    "from sklearn.model_selection import GridSearchCV\n",
    "\n",
    "\n",
    "linear_svc = LinearSVC(random_state = 22, dual= False)\n",
    "\n",
    "\n",
    "params_svc = {'C': [0.01, 0.1, 1]}\n",
    "\n",
    "grid_lr_svc = GridSearchCV(linear_svc, params_svc, cv = 5)\n",
    "\n",
    "grid_lr_svc.fit(x_train, y_train)"
   ]
  },
  {
   "cell_type": "code",
   "execution_count": 19,
   "id": "6b290ad5-c299-4626-b9f6-15328634381e",
   "metadata": {},
   "outputs": [
    {
     "data": {
      "text/plain": [
       "{'C': 0.01}"
      ]
     },
     "execution_count": 19,
     "metadata": {},
     "output_type": "execute_result"
    }
   ],
   "source": [
    "grid_lr_svc.best_params_"
   ]
  },
  {
   "cell_type": "code",
   "execution_count": 20,
   "id": "6c83dc38-0d02-41ba-808b-1cbf678fb20e",
   "metadata": {},
   "outputs": [
    {
     "data": {
      "text/plain": [
       "0.8576256185380375"
      ]
     },
     "execution_count": 20,
     "metadata": {},
     "output_type": "execute_result"
    }
   ],
   "source": [
    "grid_lr_svc.score(x_test, y_test)"
   ]
  },
  {
   "cell_type": "code",
   "execution_count": 93,
   "id": "65cd09a1-cf70-4f5a-8f0c-97f1545c70e4",
   "metadata": {},
   "outputs": [
    {
     "data": {
      "text/plain": [
       "array([[0.7067828 , 0.0642475 ],\n",
       "       [0.07812689, 0.15084282]])"
      ]
     },
     "execution_count": 93,
     "metadata": {},
     "output_type": "execute_result"
    }
   ],
   "source": [
    "grid_lr_svc_predict = grid_lr_svc.predict(x_test)\n",
    "cm = confusion_matrix(y_test, grid_lr_svc_predict,normalize= 'all' )\n",
    "cm"
   ]
  },
  {
   "cell_type": "code",
   "execution_count": 87,
   "id": "c10bbfbe-554b-4790-b888-f99cc42b3171",
   "metadata": {},
   "outputs": [
    {
     "name": "stdout",
     "output_type": "stream",
     "text": [
      "Precision score: 0.7012999158327878\n",
      "Recall score: 0.6587894228235087\n",
      "Accuracy score: 0.8576256185380375\n",
      "F1 score: 0.6793803225221959\n"
     ]
    }
   ],
   "source": [
    "from sklearn.metrics import precision_score, recall_score, accuracy_score, f1_score\n",
    "print('Precision score:', precision_score(y_test, grid_lr_svc_predict))\n",
    "print('Recall score:', recall_score(y_test, grid_lr_svc_predict))\n",
    "print('Accuracy score:', accuracy_score(y_test, grid_lr_svc_predict))\n",
    "print('F1 score:', f1_score(y_test, grid_lr_svc_predict))"
   ]
  },
  {
   "cell_type": "markdown",
   "id": "bde2dd68-2131-42da-b02c-7bbf13fcc5eb",
   "metadata": {},
   "source": [
    "### Kernel SVM"
   ]
  },
  {
   "cell_type": "code",
   "execution_count": 22,
   "id": "2a923c46-127c-4e59-9393-6ec52e2b59b2",
   "metadata": {},
   "outputs": [
    {
     "data": {
      "text/html": [
       "<style>#sk-container-id-3 {color: black;background-color: white;}#sk-container-id-3 pre{padding: 0;}#sk-container-id-3 div.sk-toggleable {background-color: white;}#sk-container-id-3 label.sk-toggleable__label {cursor: pointer;display: block;width: 100%;margin-bottom: 0;padding: 0.3em;box-sizing: border-box;text-align: center;}#sk-container-id-3 label.sk-toggleable__label-arrow:before {content: \"▸\";float: left;margin-right: 0.25em;color: #696969;}#sk-container-id-3 label.sk-toggleable__label-arrow:hover:before {color: black;}#sk-container-id-3 div.sk-estimator:hover label.sk-toggleable__label-arrow:before {color: black;}#sk-container-id-3 div.sk-toggleable__content {max-height: 0;max-width: 0;overflow: hidden;text-align: left;background-color: #f0f8ff;}#sk-container-id-3 div.sk-toggleable__content pre {margin: 0.2em;color: black;border-radius: 0.25em;background-color: #f0f8ff;}#sk-container-id-3 input.sk-toggleable__control:checked~div.sk-toggleable__content {max-height: 200px;max-width: 100%;overflow: auto;}#sk-container-id-3 input.sk-toggleable__control:checked~label.sk-toggleable__label-arrow:before {content: \"▾\";}#sk-container-id-3 div.sk-estimator input.sk-toggleable__control:checked~label.sk-toggleable__label {background-color: #d4ebff;}#sk-container-id-3 div.sk-label input.sk-toggleable__control:checked~label.sk-toggleable__label {background-color: #d4ebff;}#sk-container-id-3 input.sk-hidden--visually {border: 0;clip: rect(1px 1px 1px 1px);clip: rect(1px, 1px, 1px, 1px);height: 1px;margin: -1px;overflow: hidden;padding: 0;position: absolute;width: 1px;}#sk-container-id-3 div.sk-estimator {font-family: monospace;background-color: #f0f8ff;border: 1px dotted black;border-radius: 0.25em;box-sizing: border-box;margin-bottom: 0.5em;}#sk-container-id-3 div.sk-estimator:hover {background-color: #d4ebff;}#sk-container-id-3 div.sk-parallel-item::after {content: \"\";width: 100%;border-bottom: 1px solid gray;flex-grow: 1;}#sk-container-id-3 div.sk-label:hover label.sk-toggleable__label {background-color: #d4ebff;}#sk-container-id-3 div.sk-serial::before {content: \"\";position: absolute;border-left: 1px solid gray;box-sizing: border-box;top: 0;bottom: 0;left: 50%;z-index: 0;}#sk-container-id-3 div.sk-serial {display: flex;flex-direction: column;align-items: center;background-color: white;padding-right: 0.2em;padding-left: 0.2em;position: relative;}#sk-container-id-3 div.sk-item {position: relative;z-index: 1;}#sk-container-id-3 div.sk-parallel {display: flex;align-items: stretch;justify-content: center;background-color: white;position: relative;}#sk-container-id-3 div.sk-item::before, #sk-container-id-3 div.sk-parallel-item::before {content: \"\";position: absolute;border-left: 1px solid gray;box-sizing: border-box;top: 0;bottom: 0;left: 50%;z-index: -1;}#sk-container-id-3 div.sk-parallel-item {display: flex;flex-direction: column;z-index: 1;position: relative;background-color: white;}#sk-container-id-3 div.sk-parallel-item:first-child::after {align-self: flex-end;width: 50%;}#sk-container-id-3 div.sk-parallel-item:last-child::after {align-self: flex-start;width: 50%;}#sk-container-id-3 div.sk-parallel-item:only-child::after {width: 0;}#sk-container-id-3 div.sk-dashed-wrapped {border: 1px dashed gray;margin: 0 0.4em 0.5em 0.4em;box-sizing: border-box;padding-bottom: 0.4em;background-color: white;}#sk-container-id-3 div.sk-label label {font-family: monospace;font-weight: bold;display: inline-block;line-height: 1.2em;}#sk-container-id-3 div.sk-label-container {text-align: center;}#sk-container-id-3 div.sk-container {/* jupyter's `normalize.less` sets `[hidden] { display: none; }` but bootstrap.min.css set `[hidden] { display: none !important; }` so we also need the `!important` here to be able to override the default hidden behavior on the sphinx rendered scikit-learn.org. See: https://github.com/scikit-learn/scikit-learn/issues/21755 */display: inline-block !important;position: relative;}#sk-container-id-3 div.sk-text-repr-fallback {display: none;}</style><div id=\"sk-container-id-3\" class=\"sk-top-container\"><div class=\"sk-text-repr-fallback\"><pre>SVC(random_state=0)</pre><b>In a Jupyter environment, please rerun this cell to show the HTML representation or trust the notebook. <br />On GitHub, the HTML representation is unable to render, please try loading this page with nbviewer.org.</b></div><div class=\"sk-container\" hidden><div class=\"sk-item\"><div class=\"sk-estimator sk-toggleable\"><input class=\"sk-toggleable__control sk-hidden--visually\" id=\"sk-estimator-id-5\" type=\"checkbox\" checked><label for=\"sk-estimator-id-5\" class=\"sk-toggleable__label sk-toggleable__label-arrow\">SVC</label><div class=\"sk-toggleable__content\"><pre>SVC(random_state=0)</pre></div></div></div></div></div>"
      ],
      "text/plain": [
       "SVC(random_state=0)"
      ]
     },
     "execution_count": 22,
     "metadata": {},
     "output_type": "execute_result"
    }
   ],
   "source": [
    "from sklearn.svm import SVC\n",
    "\n",
    "kernel_svc = SVC(random_state = 0) \n",
    "\n",
    "kernel_svc.fit(x_train_1, y_train_1)"
   ]
  },
  {
   "cell_type": "code",
   "execution_count": 23,
   "id": "55fdf34a-6a45-48f0-9967-3b20d5660506",
   "metadata": {},
   "outputs": [
    {
     "data": {
      "text/plain": [
       "0.8676080135167753"
      ]
     },
     "execution_count": 23,
     "metadata": {},
     "output_type": "execute_result"
    }
   ],
   "source": [
    "kernel_svc.score(x_test_1, y_test_1)"
   ]
  },
  {
   "cell_type": "code",
   "execution_count": 95,
   "id": "134eb8b9-fda5-454f-99a5-c78b997e1dfc",
   "metadata": {},
   "outputs": [
    {
     "data": {
      "text/plain": [
       "array([[0.73370746, 0.03596428],\n",
       "       [0.09642771, 0.13390056]])"
      ]
     },
     "execution_count": 95,
     "metadata": {},
     "output_type": "execute_result"
    }
   ],
   "source": [
    "kernel_svc_predict = kernel_svc.predict(x_test_1)\n",
    "cm = confusion_matrix(y_test_1, kernel_svc_predict, normalize= 'all')\n",
    "cm"
   ]
  },
  {
   "cell_type": "code",
   "execution_count": 94,
   "id": "22070535-407c-4dac-af8f-0d3184a45221",
   "metadata": {},
   "outputs": [
    {
     "name": "stdout",
     "output_type": "stream",
     "text": [
      "Precision score: 0.7882770870337478\n",
      "Recall score: 0.5813466072832068\n",
      "Accuracy score: 0.8676080135167753\n",
      "F1 score: 0.6691797346200242\n"
     ]
    }
   ],
   "source": [
    "from sklearn.metrics import precision_score, recall_score, accuracy_score, f1_score\n",
    "print('Precision score:', precision_score(y_test_1, kernel_svc_predict))\n",
    "print('Recall score:', recall_score(y_test_1, kernel_svc_predict))\n",
    "print('Accuracy score:', accuracy_score(y_test_1, kernel_svc_predict))\n",
    "print('F1 score:', f1_score(y_test_1, kernel_svc_predict))"
   ]
  },
  {
   "cell_type": "markdown",
   "id": "83b81249-5fa7-468a-b761-0780876061f2",
   "metadata": {},
   "source": [
    "#### Radial basis function (RBF)"
   ]
  },
  {
   "cell_type": "code",
   "execution_count": 25,
   "id": "955ed068-76ca-42ea-a95d-136526da47ee",
   "metadata": {
    "tags": []
   },
   "outputs": [
    {
     "data": {
      "text/html": [
       "<style>#sk-container-id-4 {color: black;background-color: white;}#sk-container-id-4 pre{padding: 0;}#sk-container-id-4 div.sk-toggleable {background-color: white;}#sk-container-id-4 label.sk-toggleable__label {cursor: pointer;display: block;width: 100%;margin-bottom: 0;padding: 0.3em;box-sizing: border-box;text-align: center;}#sk-container-id-4 label.sk-toggleable__label-arrow:before {content: \"▸\";float: left;margin-right: 0.25em;color: #696969;}#sk-container-id-4 label.sk-toggleable__label-arrow:hover:before {color: black;}#sk-container-id-4 div.sk-estimator:hover label.sk-toggleable__label-arrow:before {color: black;}#sk-container-id-4 div.sk-toggleable__content {max-height: 0;max-width: 0;overflow: hidden;text-align: left;background-color: #f0f8ff;}#sk-container-id-4 div.sk-toggleable__content pre {margin: 0.2em;color: black;border-radius: 0.25em;background-color: #f0f8ff;}#sk-container-id-4 input.sk-toggleable__control:checked~div.sk-toggleable__content {max-height: 200px;max-width: 100%;overflow: auto;}#sk-container-id-4 input.sk-toggleable__control:checked~label.sk-toggleable__label-arrow:before {content: \"▾\";}#sk-container-id-4 div.sk-estimator input.sk-toggleable__control:checked~label.sk-toggleable__label {background-color: #d4ebff;}#sk-container-id-4 div.sk-label input.sk-toggleable__control:checked~label.sk-toggleable__label {background-color: #d4ebff;}#sk-container-id-4 input.sk-hidden--visually {border: 0;clip: rect(1px 1px 1px 1px);clip: rect(1px, 1px, 1px, 1px);height: 1px;margin: -1px;overflow: hidden;padding: 0;position: absolute;width: 1px;}#sk-container-id-4 div.sk-estimator {font-family: monospace;background-color: #f0f8ff;border: 1px dotted black;border-radius: 0.25em;box-sizing: border-box;margin-bottom: 0.5em;}#sk-container-id-4 div.sk-estimator:hover {background-color: #d4ebff;}#sk-container-id-4 div.sk-parallel-item::after {content: \"\";width: 100%;border-bottom: 1px solid gray;flex-grow: 1;}#sk-container-id-4 div.sk-label:hover label.sk-toggleable__label {background-color: #d4ebff;}#sk-container-id-4 div.sk-serial::before {content: \"\";position: absolute;border-left: 1px solid gray;box-sizing: border-box;top: 0;bottom: 0;left: 50%;z-index: 0;}#sk-container-id-4 div.sk-serial {display: flex;flex-direction: column;align-items: center;background-color: white;padding-right: 0.2em;padding-left: 0.2em;position: relative;}#sk-container-id-4 div.sk-item {position: relative;z-index: 1;}#sk-container-id-4 div.sk-parallel {display: flex;align-items: stretch;justify-content: center;background-color: white;position: relative;}#sk-container-id-4 div.sk-item::before, #sk-container-id-4 div.sk-parallel-item::before {content: \"\";position: absolute;border-left: 1px solid gray;box-sizing: border-box;top: 0;bottom: 0;left: 50%;z-index: -1;}#sk-container-id-4 div.sk-parallel-item {display: flex;flex-direction: column;z-index: 1;position: relative;background-color: white;}#sk-container-id-4 div.sk-parallel-item:first-child::after {align-self: flex-end;width: 50%;}#sk-container-id-4 div.sk-parallel-item:last-child::after {align-self: flex-start;width: 50%;}#sk-container-id-4 div.sk-parallel-item:only-child::after {width: 0;}#sk-container-id-4 div.sk-dashed-wrapped {border: 1px dashed gray;margin: 0 0.4em 0.5em 0.4em;box-sizing: border-box;padding-bottom: 0.4em;background-color: white;}#sk-container-id-4 div.sk-label label {font-family: monospace;font-weight: bold;display: inline-block;line-height: 1.2em;}#sk-container-id-4 div.sk-label-container {text-align: center;}#sk-container-id-4 div.sk-container {/* jupyter's `normalize.less` sets `[hidden] { display: none; }` but bootstrap.min.css set `[hidden] { display: none !important; }` so we also need the `!important` here to be able to override the default hidden behavior on the sphinx rendered scikit-learn.org. See: https://github.com/scikit-learn/scikit-learn/issues/21755 */display: inline-block !important;position: relative;}#sk-container-id-4 div.sk-text-repr-fallback {display: none;}</style><div id=\"sk-container-id-4\" class=\"sk-top-container\"><div class=\"sk-text-repr-fallback\"><pre>GridSearchCV(cv=5, estimator=SVC(random_state=0), n_jobs=2,\n",
       "             param_grid={&#x27;C&#x27;: [1100, 1200, 1400], &#x27;gamma&#x27;: [0.005, 0.01, 0.05]})</pre><b>In a Jupyter environment, please rerun this cell to show the HTML representation or trust the notebook. <br />On GitHub, the HTML representation is unable to render, please try loading this page with nbviewer.org.</b></div><div class=\"sk-container\" hidden><div class=\"sk-item sk-dashed-wrapped\"><div class=\"sk-label-container\"><div class=\"sk-label sk-toggleable\"><input class=\"sk-toggleable__control sk-hidden--visually\" id=\"sk-estimator-id-6\" type=\"checkbox\" ><label for=\"sk-estimator-id-6\" class=\"sk-toggleable__label sk-toggleable__label-arrow\">GridSearchCV</label><div class=\"sk-toggleable__content\"><pre>GridSearchCV(cv=5, estimator=SVC(random_state=0), n_jobs=2,\n",
       "             param_grid={&#x27;C&#x27;: [1100, 1200, 1400], &#x27;gamma&#x27;: [0.005, 0.01, 0.05]})</pre></div></div></div><div class=\"sk-parallel\"><div class=\"sk-parallel-item\"><div class=\"sk-item\"><div class=\"sk-label-container\"><div class=\"sk-label sk-toggleable\"><input class=\"sk-toggleable__control sk-hidden--visually\" id=\"sk-estimator-id-7\" type=\"checkbox\" ><label for=\"sk-estimator-id-7\" class=\"sk-toggleable__label sk-toggleable__label-arrow\">estimator: SVC</label><div class=\"sk-toggleable__content\"><pre>SVC(random_state=0)</pre></div></div></div><div class=\"sk-serial\"><div class=\"sk-item\"><div class=\"sk-estimator sk-toggleable\"><input class=\"sk-toggleable__control sk-hidden--visually\" id=\"sk-estimator-id-8\" type=\"checkbox\" ><label for=\"sk-estimator-id-8\" class=\"sk-toggleable__label sk-toggleable__label-arrow\">SVC</label><div class=\"sk-toggleable__content\"><pre>SVC(random_state=0)</pre></div></div></div></div></div></div></div></div></div></div>"
      ],
      "text/plain": [
       "GridSearchCV(cv=5, estimator=SVC(random_state=0), n_jobs=2,\n",
       "             param_grid={'C': [1100, 1200, 1400], 'gamma': [0.005, 0.01, 0.05]})"
      ]
     },
     "execution_count": 25,
     "metadata": {},
     "output_type": "execute_result"
    }
   ],
   "source": [
    "from sklearn.svm import SVC\n",
    "from sklearn.model_selection import GridSearchCV\n",
    "\n",
    "\n",
    "base_svc_rbf = SVC(random_state = 0,kernel = 'rbf')\n",
    "\n",
    "#define a list of parameters\n",
    "param_svc_kernel_rbf = {'C':  [1100, 1200, 1400 ] ,\n",
    "                        'gamma':  [0.005, 0.01, 0.05]} \n",
    "\n",
    "#apply grid search\n",
    "grid_svc_rbf = GridSearchCV(base_svc_rbf, param_svc_kernel_rbf, cv = 5, n_jobs=2)\n",
    "\n",
    "grid_svc_rbf.fit(x_train_2, y_train_2)"
   ]
  },
  {
   "cell_type": "code",
   "execution_count": 26,
   "id": "82ffd394-d9e8-4a75-afe0-75caab0e0d29",
   "metadata": {},
   "outputs": [
    {
     "data": {
      "text/plain": [
       "{'C': 1100, 'gamma': 0.005}"
      ]
     },
     "execution_count": 26,
     "metadata": {},
     "output_type": "execute_result"
    }
   ],
   "source": [
    "grid_svc_rbf.best_params_"
   ]
  },
  {
   "cell_type": "code",
   "execution_count": 27,
   "id": "d43e3b43-7d3f-40c8-b5bf-eac521e7b904",
   "metadata": {},
   "outputs": [
    {
     "data": {
      "text/plain": [
       "0.865556360125513"
      ]
     },
     "execution_count": 27,
     "metadata": {},
     "output_type": "execute_result"
    }
   ],
   "source": [
    "grid_svc_rbf.score(x_test_2, y_test_2)"
   ]
  },
  {
   "cell_type": "code",
   "execution_count": 28,
   "id": "785c93ca-8852-4bd0-800c-450c38ab0ba0",
   "metadata": {},
   "outputs": [
    {
     "data": {
      "text/plain": [
       "array([[6030,  384],\n",
       "       [ 730, 1142]], dtype=int64)"
      ]
     },
     "execution_count": 28,
     "metadata": {},
     "output_type": "execute_result"
    }
   ],
   "source": [
    "from sklearn.metrics import confusion_matrix\n",
    "grid_svc_rbf_predict = grid_svc_rbf.predict(x_test_2)\n",
    "cm_rbf = confusion_matrix(y_test_2, grid_svc_rbf_predict)\n",
    "cm_rbf"
   ]
  },
  {
   "cell_type": "code",
   "execution_count": 96,
   "id": "935d04b8-018c-42b8-ace3-debd09aba42a",
   "metadata": {},
   "outputs": [
    {
     "data": {
      "text/plain": [
       "array([[0.72773353, 0.04634323],\n",
       "       [0.08810041, 0.13782283]])"
      ]
     },
     "execution_count": 96,
     "metadata": {},
     "output_type": "execute_result"
    }
   ],
   "source": [
    "confusion_matrix(y_test_2, grid_svc_rbf_predict, normalize='all')"
   ]
  },
  {
   "cell_type": "code",
   "execution_count": 29,
   "id": "5769ace3-91e2-4377-af45-0c07e295379d",
   "metadata": {},
   "outputs": [
    {
     "name": "stdout",
     "output_type": "stream",
     "text": [
      "Precision score: 0.7483617300131061\n",
      "Recall score: 0.6100427350427351\n",
      "Accuracy score: 0.865556360125513\n",
      "F1 score: 0.6721600941730431\n"
     ]
    }
   ],
   "source": [
    "from sklearn.metrics import precision_score, recall_score, accuracy_score, f1_score\n",
    "print('Precision score:', precision_score(y_test_2,grid_svc_rbf_predict))\n",
    "print('Recall score:', recall_score(y_test_2,grid_svc_rbf_predict))\n",
    "print('Accuracy score:', accuracy_score(y_test_2,grid_svc_rbf_predict))\n",
    "print('F1 score:', f1_score(y_test_2,grid_svc_rbf_predict))"
   ]
  },
  {
   "cell_type": "markdown",
   "id": "568b6dcd-b486-4537-9b9f-7ab957157713",
   "metadata": {},
   "source": [
    "#### Polynomial kernel SVM"
   ]
  },
  {
   "cell_type": "code",
   "execution_count": 30,
   "id": "1b651f6a-f869-469b-9df7-278e2bb38132",
   "metadata": {},
   "outputs": [
    {
     "data": {
      "text/html": [
       "<style>#sk-container-id-5 {color: black;background-color: white;}#sk-container-id-5 pre{padding: 0;}#sk-container-id-5 div.sk-toggleable {background-color: white;}#sk-container-id-5 label.sk-toggleable__label {cursor: pointer;display: block;width: 100%;margin-bottom: 0;padding: 0.3em;box-sizing: border-box;text-align: center;}#sk-container-id-5 label.sk-toggleable__label-arrow:before {content: \"▸\";float: left;margin-right: 0.25em;color: #696969;}#sk-container-id-5 label.sk-toggleable__label-arrow:hover:before {color: black;}#sk-container-id-5 div.sk-estimator:hover label.sk-toggleable__label-arrow:before {color: black;}#sk-container-id-5 div.sk-toggleable__content {max-height: 0;max-width: 0;overflow: hidden;text-align: left;background-color: #f0f8ff;}#sk-container-id-5 div.sk-toggleable__content pre {margin: 0.2em;color: black;border-radius: 0.25em;background-color: #f0f8ff;}#sk-container-id-5 input.sk-toggleable__control:checked~div.sk-toggleable__content {max-height: 200px;max-width: 100%;overflow: auto;}#sk-container-id-5 input.sk-toggleable__control:checked~label.sk-toggleable__label-arrow:before {content: \"▾\";}#sk-container-id-5 div.sk-estimator input.sk-toggleable__control:checked~label.sk-toggleable__label {background-color: #d4ebff;}#sk-container-id-5 div.sk-label input.sk-toggleable__control:checked~label.sk-toggleable__label {background-color: #d4ebff;}#sk-container-id-5 input.sk-hidden--visually {border: 0;clip: rect(1px 1px 1px 1px);clip: rect(1px, 1px, 1px, 1px);height: 1px;margin: -1px;overflow: hidden;padding: 0;position: absolute;width: 1px;}#sk-container-id-5 div.sk-estimator {font-family: monospace;background-color: #f0f8ff;border: 1px dotted black;border-radius: 0.25em;box-sizing: border-box;margin-bottom: 0.5em;}#sk-container-id-5 div.sk-estimator:hover {background-color: #d4ebff;}#sk-container-id-5 div.sk-parallel-item::after {content: \"\";width: 100%;border-bottom: 1px solid gray;flex-grow: 1;}#sk-container-id-5 div.sk-label:hover label.sk-toggleable__label {background-color: #d4ebff;}#sk-container-id-5 div.sk-serial::before {content: \"\";position: absolute;border-left: 1px solid gray;box-sizing: border-box;top: 0;bottom: 0;left: 50%;z-index: 0;}#sk-container-id-5 div.sk-serial {display: flex;flex-direction: column;align-items: center;background-color: white;padding-right: 0.2em;padding-left: 0.2em;position: relative;}#sk-container-id-5 div.sk-item {position: relative;z-index: 1;}#sk-container-id-5 div.sk-parallel {display: flex;align-items: stretch;justify-content: center;background-color: white;position: relative;}#sk-container-id-5 div.sk-item::before, #sk-container-id-5 div.sk-parallel-item::before {content: \"\";position: absolute;border-left: 1px solid gray;box-sizing: border-box;top: 0;bottom: 0;left: 50%;z-index: -1;}#sk-container-id-5 div.sk-parallel-item {display: flex;flex-direction: column;z-index: 1;position: relative;background-color: white;}#sk-container-id-5 div.sk-parallel-item:first-child::after {align-self: flex-end;width: 50%;}#sk-container-id-5 div.sk-parallel-item:last-child::after {align-self: flex-start;width: 50%;}#sk-container-id-5 div.sk-parallel-item:only-child::after {width: 0;}#sk-container-id-5 div.sk-dashed-wrapped {border: 1px dashed gray;margin: 0 0.4em 0.5em 0.4em;box-sizing: border-box;padding-bottom: 0.4em;background-color: white;}#sk-container-id-5 div.sk-label label {font-family: monospace;font-weight: bold;display: inline-block;line-height: 1.2em;}#sk-container-id-5 div.sk-label-container {text-align: center;}#sk-container-id-5 div.sk-container {/* jupyter's `normalize.less` sets `[hidden] { display: none; }` but bootstrap.min.css set `[hidden] { display: none !important; }` so we also need the `!important` here to be able to override the default hidden behavior on the sphinx rendered scikit-learn.org. See: https://github.com/scikit-learn/scikit-learn/issues/21755 */display: inline-block !important;position: relative;}#sk-container-id-5 div.sk-text-repr-fallback {display: none;}</style><div id=\"sk-container-id-5\" class=\"sk-top-container\"><div class=\"sk-text-repr-fallback\"><pre>GridSearchCV(cv=5, estimator=SVC(kernel=&#x27;poly&#x27;, random_state=0), n_jobs=2,\n",
       "             param_grid={&#x27;C&#x27;: [10, 15, 20], &#x27;degree&#x27;: [2, 3, 4]})</pre><b>In a Jupyter environment, please rerun this cell to show the HTML representation or trust the notebook. <br />On GitHub, the HTML representation is unable to render, please try loading this page with nbviewer.org.</b></div><div class=\"sk-container\" hidden><div class=\"sk-item sk-dashed-wrapped\"><div class=\"sk-label-container\"><div class=\"sk-label sk-toggleable\"><input class=\"sk-toggleable__control sk-hidden--visually\" id=\"sk-estimator-id-9\" type=\"checkbox\" ><label for=\"sk-estimator-id-9\" class=\"sk-toggleable__label sk-toggleable__label-arrow\">GridSearchCV</label><div class=\"sk-toggleable__content\"><pre>GridSearchCV(cv=5, estimator=SVC(kernel=&#x27;poly&#x27;, random_state=0), n_jobs=2,\n",
       "             param_grid={&#x27;C&#x27;: [10, 15, 20], &#x27;degree&#x27;: [2, 3, 4]})</pre></div></div></div><div class=\"sk-parallel\"><div class=\"sk-parallel-item\"><div class=\"sk-item\"><div class=\"sk-label-container\"><div class=\"sk-label sk-toggleable\"><input class=\"sk-toggleable__control sk-hidden--visually\" id=\"sk-estimator-id-10\" type=\"checkbox\" ><label for=\"sk-estimator-id-10\" class=\"sk-toggleable__label sk-toggleable__label-arrow\">estimator: SVC</label><div class=\"sk-toggleable__content\"><pre>SVC(kernel=&#x27;poly&#x27;, random_state=0)</pre></div></div></div><div class=\"sk-serial\"><div class=\"sk-item\"><div class=\"sk-estimator sk-toggleable\"><input class=\"sk-toggleable__control sk-hidden--visually\" id=\"sk-estimator-id-11\" type=\"checkbox\" ><label for=\"sk-estimator-id-11\" class=\"sk-toggleable__label sk-toggleable__label-arrow\">SVC</label><div class=\"sk-toggleable__content\"><pre>SVC(kernel=&#x27;poly&#x27;, random_state=0)</pre></div></div></div></div></div></div></div></div></div></div>"
      ],
      "text/plain": [
       "GridSearchCV(cv=5, estimator=SVC(kernel='poly', random_state=0), n_jobs=2,\n",
       "             param_grid={'C': [10, 15, 20], 'degree': [2, 3, 4]})"
      ]
     },
     "execution_count": 30,
     "metadata": {},
     "output_type": "execute_result"
    }
   ],
   "source": [
    "base_svc_poly = SVC(random_state = 0, kernel = 'poly')\n",
    "\n",
    "#define a list of parameters\n",
    "param_svc_kernel_poly = {'C':  [10, 15, 20],\n",
    "                         'degree': [2,3,4]} \n",
    "\n",
    "#apply grid search\n",
    "grid_svc_poly = GridSearchCV(base_svc_poly, param_svc_kernel_poly, cv = 5, n_jobs=2)\n",
    "\n",
    "grid_svc_poly.fit(x_train_2, y_train_2)"
   ]
  },
  {
   "cell_type": "code",
   "execution_count": 31,
   "id": "0cbc4b82-30b3-4fc3-9d5a-5e3629cbfd42",
   "metadata": {},
   "outputs": [
    {
     "data": {
      "text/plain": [
       "{'C': 15, 'degree': 3}"
      ]
     },
     "execution_count": 31,
     "metadata": {},
     "output_type": "execute_result"
    }
   ],
   "source": [
    "grid_svc_poly.best_params_"
   ]
  },
  {
   "cell_type": "code",
   "execution_count": 32,
   "id": "9333d165-b924-42db-845b-ffe4c6cd7443",
   "metadata": {},
   "outputs": [
    {
     "data": {
      "text/plain": [
       "0.8674873280231716"
      ]
     },
     "execution_count": 32,
     "metadata": {},
     "output_type": "execute_result"
    }
   ],
   "source": [
    "grid_svc_poly.score(x_test_2, y_test_2)"
   ]
  },
  {
   "cell_type": "code",
   "execution_count": 33,
   "id": "9ace4364-d224-4fa9-bcdc-279264e09272",
   "metadata": {},
   "outputs": [
    {
     "data": {
      "text/plain": [
       "array([[6090,  324],\n",
       "       [ 774, 1098]], dtype=int64)"
      ]
     },
     "execution_count": 33,
     "metadata": {},
     "output_type": "execute_result"
    }
   ],
   "source": [
    "grid_svc_poly_predict = grid_svc_poly.predict(x_test_2)\n",
    "cm_poly = confusion_matrix(y_test_2, grid_svc_poly_predict)\n",
    "cm_poly"
   ]
  },
  {
   "cell_type": "code",
   "execution_count": 97,
   "id": "0d4e4438-633d-4815-afe9-0ef32e7b520f",
   "metadata": {},
   "outputs": [
    {
     "data": {
      "text/plain": [
       "array([[0.73497466, 0.0391021 ],\n",
       "       [0.09341057, 0.13251267]])"
      ]
     },
     "execution_count": 97,
     "metadata": {},
     "output_type": "execute_result"
    }
   ],
   "source": [
    "confusion_matrix(y_test_2, grid_svc_poly_predict, normalize= 'all')"
   ]
  },
  {
   "cell_type": "code",
   "execution_count": 79,
   "id": "c99f998b-8d4e-4e33-bd9d-8a87fc28acd4",
   "metadata": {},
   "outputs": [
    {
     "name": "stdout",
     "output_type": "stream",
     "text": [
      "Precision score: 0.7721518987341772\n",
      "Recall score: 0.5865384615384616\n",
      "Accuracy score: 0.8674873280231716\n",
      "F1 score: 0.6666666666666667\n"
     ]
    }
   ],
   "source": [
    "from sklearn.metrics import precision_score, recall_score, accuracy_score, f1_score\n",
    "print('Precision score:', precision_score(y_test_2, grid_svc_poly_predict))\n",
    "print('Recall score:', recall_score(y_test_2, grid_svc_poly_predict))\n",
    "print('Accuracy score:', accuracy_score(y_test_2, grid_svc_poly_predict))\n",
    "print('F1 score:', f1_score(y_test_2, grid_svc_poly_predict))"
   ]
  },
  {
   "cell_type": "code",
   "execution_count": 82,
   "id": "295f9100-3013-4d08-ba37-199677b3b744",
   "metadata": {},
   "outputs": [
    {
     "data": {
      "text/html": [
       "<div>\n",
       "<style scoped>\n",
       "    .dataframe tbody tr th:only-of-type {\n",
       "        vertical-align: middle;\n",
       "    }\n",
       "\n",
       "    .dataframe tbody tr th {\n",
       "        vertical-align: top;\n",
       "    }\n",
       "\n",
       "    .dataframe thead th {\n",
       "        text-align: right;\n",
       "    }\n",
       "</style>\n",
       "<table border=\"1\" class=\"dataframe\">\n",
       "  <thead>\n",
       "    <tr style=\"text-align: right;\">\n",
       "      <th></th>\n",
       "      <th>score_type</th>\n",
       "      <th>score</th>\n",
       "      <th>model</th>\n",
       "    </tr>\n",
       "  </thead>\n",
       "  <tbody>\n",
       "    <tr>\n",
       "      <th>0</th>\n",
       "      <td>Precision score</td>\n",
       "      <td>0.748362</td>\n",
       "      <td>svm_rbf</td>\n",
       "    </tr>\n",
       "    <tr>\n",
       "      <th>1</th>\n",
       "      <td>Recall score</td>\n",
       "      <td>0.610043</td>\n",
       "      <td>svm_rbf</td>\n",
       "    </tr>\n",
       "    <tr>\n",
       "      <th>2</th>\n",
       "      <td>Accuracy score</td>\n",
       "      <td>0.865556</td>\n",
       "      <td>svm_rbf</td>\n",
       "    </tr>\n",
       "    <tr>\n",
       "      <th>3</th>\n",
       "      <td>F1 score</td>\n",
       "      <td>0.672160</td>\n",
       "      <td>svm_rbf</td>\n",
       "    </tr>\n",
       "    <tr>\n",
       "      <th>4</th>\n",
       "      <td>Precision score</td>\n",
       "      <td>0.772152</td>\n",
       "      <td>svm_poly</td>\n",
       "    </tr>\n",
       "    <tr>\n",
       "      <th>5</th>\n",
       "      <td>Recall score</td>\n",
       "      <td>0.586538</td>\n",
       "      <td>svm_poly</td>\n",
       "    </tr>\n",
       "    <tr>\n",
       "      <th>6</th>\n",
       "      <td>Accuracy score</td>\n",
       "      <td>0.867487</td>\n",
       "      <td>svm_poly</td>\n",
       "    </tr>\n",
       "    <tr>\n",
       "      <th>7</th>\n",
       "      <td>F1 score</td>\n",
       "      <td>0.666667</td>\n",
       "      <td>svm_poly</td>\n",
       "    </tr>\n",
       "  </tbody>\n",
       "</table>\n",
       "</div>"
      ],
      "text/plain": [
       "        score_type     score     model\n",
       "0  Precision score  0.748362   svm_rbf\n",
       "1     Recall score  0.610043   svm_rbf\n",
       "2   Accuracy score  0.865556   svm_rbf\n",
       "3         F1 score  0.672160   svm_rbf\n",
       "4  Precision score  0.772152  svm_poly\n",
       "5     Recall score  0.586538  svm_poly\n",
       "6   Accuracy score  0.867487  svm_poly\n",
       "7         F1 score  0.666667  svm_poly"
      ]
     },
     "execution_count": 82,
     "metadata": {},
     "output_type": "execute_result"
    }
   ],
   "source": [
    "graph = pd.DataFrame({\"score_type\" : ['Precision score', \"Recall score\", \"Accuracy score\", \"F1 score\", 'Precision score', \"Recall score\", \"Accuracy score\", \"F1 score\"], \"score\": [0.7483617300131061, 0.6100427350427351, 0.865556360125513, 0.6721600941730430, \n",
    "0.7721518987341772, 0.5865384615384616, 0.8674873280231716, 0.6666666666666667],\n",
    "             \"model\":[\"svm_rbf\",\"svm_rbf\",\"svm_rbf\",\"svm_rbf\",\"svm_poly\",\"svm_poly\",\"svm_poly\",\"svm_poly\"]})\n",
    "graph"
   ]
  },
  {
   "cell_type": "code",
   "execution_count": 101,
   "id": "596b0e74-6db7-4455-b69a-a3a3e1b80891",
   "metadata": {},
   "outputs": [
    {
     "data": {
      "image/png": "[encoded data removed]",
      "text/plain": [
       "<Figure size 576x288 with 1 Axes>"
      ]
     },
     "metadata": {
      "needs_background": "light"
     },
     "output_type": "display_data"
    }
   ],
   "source": [
    "# Grouped bar plot with seaborn\n",
    "import seaborn as sns\n",
    "fig2 = plt.figure(figsize=(8, 4))\n",
    "sns.barplot(y='score',x='score_type',hue='model',data= graph);"
   ]
  },
  {
   "cell_type": "code",
   "execution_count": 100,
   "id": "b1cb9c47-db8b-477a-b7b9-7be10fdfdd6d",
   "metadata": {},
   "outputs": [
    {
     "data": {
      "image/png": "[encoded data removed]",
      "text/plain": [
       "<Figure size 576x288 with 1 Axes>"
      ]
     },
     "metadata": {
      "needs_background": "light"
     },
     "output_type": "display_data"
    }
   ],
   "source": [
    "x_axis = [\"Linear_SVM\", \"Linear_SVM@Best\", \"Kernal_SVM\", \"K_SVM_rbf@best\",\"K_SVM_poly@best\"]\n",
    "y_axis = [0.8576658486543026, 0.8576256185380375, 0.8676080135167753, 0.865556360125513, 0.8674873280231716]\n",
    "fig1 = plt.figure(figsize=(8, 4))\n",
    "plt.plot(x_axis, y_axis)\n",
    "plt.title(\"SMV Models vs Accuracy\")\n",
    "plt.xlabel('Model Name')\n",
    "plt.ylabel('Accuracy')\n",
    "plt.show()"
   ]
  },
  {
   "cell_type": "markdown",
   "id": "e4cce40b-daea-42ee-b8f4-b24c5265aa5b",
   "metadata": {},
   "source": [
    "### Multiclass Classification with SVM"
   ]
  },
  {
   "cell_type": "code",
   "execution_count": 31,
   "id": "701e3f2d-b83d-42ab-adf0-5ef7a885a7be",
   "metadata": {},
   "outputs": [
    {
     "data": {
      "text/html": [
       "<style>#sk-container-id-6 {color: black;background-color: white;}#sk-container-id-6 pre{padding: 0;}#sk-container-id-6 div.sk-toggleable {background-color: white;}#sk-container-id-6 label.sk-toggleable__label {cursor: pointer;display: block;width: 100%;margin-bottom: 0;padding: 0.3em;box-sizing: border-box;text-align: center;}#sk-container-id-6 label.sk-toggleable__label-arrow:before {content: \"▸\";float: left;margin-right: 0.25em;color: #696969;}#sk-container-id-6 label.sk-toggleable__label-arrow:hover:before {color: black;}#sk-container-id-6 div.sk-estimator:hover label.sk-toggleable__label-arrow:before {color: black;}#sk-container-id-6 div.sk-toggleable__content {max-height: 0;max-width: 0;overflow: hidden;text-align: left;background-color: #f0f8ff;}#sk-container-id-6 div.sk-toggleable__content pre {margin: 0.2em;color: black;border-radius: 0.25em;background-color: #f0f8ff;}#sk-container-id-6 input.sk-toggleable__control:checked~div.sk-toggleable__content {max-height: 200px;max-width: 100%;overflow: auto;}#sk-container-id-6 input.sk-toggleable__control:checked~label.sk-toggleable__label-arrow:before {content: \"▾\";}#sk-container-id-6 div.sk-estimator input.sk-toggleable__control:checked~label.sk-toggleable__label {background-color: #d4ebff;}#sk-container-id-6 div.sk-label input.sk-toggleable__control:checked~label.sk-toggleable__label {background-color: #d4ebff;}#sk-container-id-6 input.sk-hidden--visually {border: 0;clip: rect(1px 1px 1px 1px);clip: rect(1px, 1px, 1px, 1px);height: 1px;margin: -1px;overflow: hidden;padding: 0;position: absolute;width: 1px;}#sk-container-id-6 div.sk-estimator {font-family: monospace;background-color: #f0f8ff;border: 1px dotted black;border-radius: 0.25em;box-sizing: border-box;margin-bottom: 0.5em;}#sk-container-id-6 div.sk-estimator:hover {background-color: #d4ebff;}#sk-container-id-6 div.sk-parallel-item::after {content: \"\";width: 100%;border-bottom: 1px solid gray;flex-grow: 1;}#sk-container-id-6 div.sk-label:hover label.sk-toggleable__label {background-color: #d4ebff;}#sk-container-id-6 div.sk-serial::before {content: \"\";position: absolute;border-left: 1px solid gray;box-sizing: border-box;top: 0;bottom: 0;left: 50%;z-index: 0;}#sk-container-id-6 div.sk-serial {display: flex;flex-direction: column;align-items: center;background-color: white;padding-right: 0.2em;padding-left: 0.2em;position: relative;}#sk-container-id-6 div.sk-item {position: relative;z-index: 1;}#sk-container-id-6 div.sk-parallel {display: flex;align-items: stretch;justify-content: center;background-color: white;position: relative;}#sk-container-id-6 div.sk-item::before, #sk-container-id-6 div.sk-parallel-item::before {content: \"\";position: absolute;border-left: 1px solid gray;box-sizing: border-box;top: 0;bottom: 0;left: 50%;z-index: -1;}#sk-container-id-6 div.sk-parallel-item {display: flex;flex-direction: column;z-index: 1;position: relative;background-color: white;}#sk-container-id-6 div.sk-parallel-item:first-child::after {align-self: flex-end;width: 50%;}#sk-container-id-6 div.sk-parallel-item:last-child::after {align-self: flex-start;width: 50%;}#sk-container-id-6 div.sk-parallel-item:only-child::after {width: 0;}#sk-container-id-6 div.sk-dashed-wrapped {border: 1px dashed gray;margin: 0 0.4em 0.5em 0.4em;box-sizing: border-box;padding-bottom: 0.4em;background-color: white;}#sk-container-id-6 div.sk-label label {font-family: monospace;font-weight: bold;display: inline-block;line-height: 1.2em;}#sk-container-id-6 div.sk-label-container {text-align: center;}#sk-container-id-6 div.sk-container {/* jupyter's `normalize.less` sets `[hidden] { display: none; }` but bootstrap.min.css set `[hidden] { display: none !important; }` so we also need the `!important` here to be able to override the default hidden behavior on the sphinx rendered scikit-learn.org. See: https://github.com/scikit-learn/scikit-learn/issues/21755 */display: inline-block !important;position: relative;}#sk-container-id-6 div.sk-text-repr-fallback {display: none;}</style><div id=\"sk-container-id-6\" class=\"sk-top-container\"><div class=\"sk-text-repr-fallback\"><pre>LinearSVC(dual=False, random_state=22)</pre><b>In a Jupyter environment, please rerun this cell to show the HTML representation or trust the notebook. <br />On GitHub, the HTML representation is unable to render, please try loading this page with nbviewer.org.</b></div><div class=\"sk-container\" hidden><div class=\"sk-item\"><div class=\"sk-estimator sk-toggleable\"><input class=\"sk-toggleable__control sk-hidden--visually\" id=\"sk-estimator-id-12\" type=\"checkbox\" checked><label for=\"sk-estimator-id-12\" class=\"sk-toggleable__label sk-toggleable__label-arrow\">LinearSVC</label><div class=\"sk-toggleable__content\"><pre>LinearSVC(dual=False, random_state=22)</pre></div></div></div></div></div>"
      ],
      "text/plain": [
       "LinearSVC(dual=False, random_state=22)"
      ]
     },
     "execution_count": 31,
     "metadata": {},
     "output_type": "execute_result"
    }
   ],
   "source": [
    "lr_svc_multi = LinearSVC(random_state = 22,dual = False ,multi_class='ovr' )\n",
    "lr_svc_multi.fit(x_train_3, y_train_3)"
   ]
  },
  {
   "cell_type": "code",
   "execution_count": 33,
   "id": "9c51911a-6952-4e07-b503-4e640845e129",
   "metadata": {},
   "outputs": [
    {
     "data": {
      "text/plain": [
       "array([[15703,  1788,    46],\n",
       "       [ 3058, 14821,  2915],\n",
       "       [  334,  4927,  6122]], dtype=int64)"
      ]
     },
     "execution_count": 33,
     "metadata": {},
     "output_type": "execute_result"
    }
   ],
   "source": [
    "lr_svc_multi_predict = lr_svc_multi.predict(x_test_3)\n",
    "cm_lr_multi = confusion_matrix(y_test_3, lr_svc_multi_predict)\n",
    "cm_lr_multi"
   ]
  },
  {
   "cell_type": "code",
   "execution_count": 34,
   "id": "443638a6-94a4-4bdc-b6a2-0c2923a02676",
   "metadata": {},
   "outputs": [
    {
     "data": {
      "text/plain": [
       "0.7371364203242547"
      ]
     },
     "execution_count": 34,
     "metadata": {},
     "output_type": "execute_result"
    }
   ],
   "source": [
    "lr_svc_multi.score(x_test_3, y_test_3)"
   ]
  },
  {
   "cell_type": "markdown",
   "id": "b58c6389-7046-4276-8ead-4428058653bd",
   "metadata": {},
   "source": [
    "### Multiclass Classificaion with Linear SVM"
   ]
  },
  {
   "cell_type": "code",
   "execution_count": 35,
   "id": "f8527d60-8850-4939-9046-3a364df3f36d",
   "metadata": {},
   "outputs": [
    {
     "data": {
      "text/html": [
       "<style>#sk-container-id-7 {color: black;background-color: white;}#sk-container-id-7 pre{padding: 0;}#sk-container-id-7 div.sk-toggleable {background-color: white;}#sk-container-id-7 label.sk-toggleable__label {cursor: pointer;display: block;width: 100%;margin-bottom: 0;padding: 0.3em;box-sizing: border-box;text-align: center;}#sk-container-id-7 label.sk-toggleable__label-arrow:before {content: \"▸\";float: left;margin-right: 0.25em;color: #696969;}#sk-container-id-7 label.sk-toggleable__label-arrow:hover:before {color: black;}#sk-container-id-7 div.sk-estimator:hover label.sk-toggleable__label-arrow:before {color: black;}#sk-container-id-7 div.sk-toggleable__content {max-height: 0;max-width: 0;overflow: hidden;text-align: left;background-color: #f0f8ff;}#sk-container-id-7 div.sk-toggleable__content pre {margin: 0.2em;color: black;border-radius: 0.25em;background-color: #f0f8ff;}#sk-container-id-7 input.sk-toggleable__control:checked~div.sk-toggleable__content {max-height: 200px;max-width: 100%;overflow: auto;}#sk-container-id-7 input.sk-toggleable__control:checked~label.sk-toggleable__label-arrow:before {content: \"▾\";}#sk-container-id-7 div.sk-estimator input.sk-toggleable__control:checked~label.sk-toggleable__label {background-color: #d4ebff;}#sk-container-id-7 div.sk-label input.sk-toggleable__control:checked~label.sk-toggleable__label {background-color: #d4ebff;}#sk-container-id-7 input.sk-hidden--visually {border: 0;clip: rect(1px 1px 1px 1px);clip: rect(1px, 1px, 1px, 1px);height: 1px;margin: -1px;overflow: hidden;padding: 0;position: absolute;width: 1px;}#sk-container-id-7 div.sk-estimator {font-family: monospace;background-color: #f0f8ff;border: 1px dotted black;border-radius: 0.25em;box-sizing: border-box;margin-bottom: 0.5em;}#sk-container-id-7 div.sk-estimator:hover {background-color: #d4ebff;}#sk-container-id-7 div.sk-parallel-item::after {content: \"\";width: 100%;border-bottom: 1px solid gray;flex-grow: 1;}#sk-container-id-7 div.sk-label:hover label.sk-toggleable__label {background-color: #d4ebff;}#sk-container-id-7 div.sk-serial::before {content: \"\";position: absolute;border-left: 1px solid gray;box-sizing: border-box;top: 0;bottom: 0;left: 50%;z-index: 0;}#sk-container-id-7 div.sk-serial {display: flex;flex-direction: column;align-items: center;background-color: white;padding-right: 0.2em;padding-left: 0.2em;position: relative;}#sk-container-id-7 div.sk-item {position: relative;z-index: 1;}#sk-container-id-7 div.sk-parallel {display: flex;align-items: stretch;justify-content: center;background-color: white;position: relative;}#sk-container-id-7 div.sk-item::before, #sk-container-id-7 div.sk-parallel-item::before {content: \"\";position: absolute;border-left: 1px solid gray;box-sizing: border-box;top: 0;bottom: 0;left: 50%;z-index: -1;}#sk-container-id-7 div.sk-parallel-item {display: flex;flex-direction: column;z-index: 1;position: relative;background-color: white;}#sk-container-id-7 div.sk-parallel-item:first-child::after {align-self: flex-end;width: 50%;}#sk-container-id-7 div.sk-parallel-item:last-child::after {align-self: flex-start;width: 50%;}#sk-container-id-7 div.sk-parallel-item:only-child::after {width: 0;}#sk-container-id-7 div.sk-dashed-wrapped {border: 1px dashed gray;margin: 0 0.4em 0.5em 0.4em;box-sizing: border-box;padding-bottom: 0.4em;background-color: white;}#sk-container-id-7 div.sk-label label {font-family: monospace;font-weight: bold;display: inline-block;line-height: 1.2em;}#sk-container-id-7 div.sk-label-container {text-align: center;}#sk-container-id-7 div.sk-container {/* jupyter's `normalize.less` sets `[hidden] { display: none; }` but bootstrap.min.css set `[hidden] { display: none !important; }` so we also need the `!important` here to be able to override the default hidden behavior on the sphinx rendered scikit-learn.org. See: https://github.com/scikit-learn/scikit-learn/issues/21755 */display: inline-block !important;position: relative;}#sk-container-id-7 div.sk-text-repr-fallback {display: none;}</style><div id=\"sk-container-id-7\" class=\"sk-top-container\"><div class=\"sk-text-repr-fallback\"><pre>GridSearchCV(cv=5, estimator=LinearSVC(dual=False, random_state=22), n_jobs=2,\n",
       "             param_grid={&#x27;C&#x27;: [0.1, 0.5, 1]})</pre><b>In a Jupyter environment, please rerun this cell to show the HTML representation or trust the notebook. <br />On GitHub, the HTML representation is unable to render, please try loading this page with nbviewer.org.</b></div><div class=\"sk-container\" hidden><div class=\"sk-item sk-dashed-wrapped\"><div class=\"sk-label-container\"><div class=\"sk-label sk-toggleable\"><input class=\"sk-toggleable__control sk-hidden--visually\" id=\"sk-estimator-id-13\" type=\"checkbox\" ><label for=\"sk-estimator-id-13\" class=\"sk-toggleable__label sk-toggleable__label-arrow\">GridSearchCV</label><div class=\"sk-toggleable__content\"><pre>GridSearchCV(cv=5, estimator=LinearSVC(dual=False, random_state=22), n_jobs=2,\n",
       "             param_grid={&#x27;C&#x27;: [0.1, 0.5, 1]})</pre></div></div></div><div class=\"sk-parallel\"><div class=\"sk-parallel-item\"><div class=\"sk-item\"><div class=\"sk-label-container\"><div class=\"sk-label sk-toggleable\"><input class=\"sk-toggleable__control sk-hidden--visually\" id=\"sk-estimator-id-14\" type=\"checkbox\" ><label for=\"sk-estimator-id-14\" class=\"sk-toggleable__label sk-toggleable__label-arrow\">estimator: LinearSVC</label><div class=\"sk-toggleable__content\"><pre>LinearSVC(dual=False, random_state=22)</pre></div></div></div><div class=\"sk-serial\"><div class=\"sk-item\"><div class=\"sk-estimator sk-toggleable\"><input class=\"sk-toggleable__control sk-hidden--visually\" id=\"sk-estimator-id-15\" type=\"checkbox\" ><label for=\"sk-estimator-id-15\" class=\"sk-toggleable__label sk-toggleable__label-arrow\">LinearSVC</label><div class=\"sk-toggleable__content\"><pre>LinearSVC(dual=False, random_state=22)</pre></div></div></div></div></div></div></div></div></div></div>"
      ],
      "text/plain": [
       "GridSearchCV(cv=5, estimator=LinearSVC(dual=False, random_state=22), n_jobs=2,\n",
       "             param_grid={'C': [0.1, 0.5, 1]})"
      ]
     },
     "execution_count": 35,
     "metadata": {},
     "output_type": "execute_result"
    }
   ],
   "source": [
    "linear_svc_multi = LinearSVC(random_state = 22, dual= False)\n",
    "\n",
    "params_svc_multi = {'C': [0.1, 0.5, 1]}\n",
    "\n",
    "grid_lr_svc_multi = GridSearchCV(linear_svc_multi, params_svc_multi, cv = 5, n_jobs = 2)\n",
    "\n",
    "grid_lr_svc_multi.fit(x_train_3, y_train_3)"
   ]
  },
  {
   "cell_type": "code",
   "execution_count": 36,
   "id": "0dd9db1d-10ae-464f-b809-96a2e8b4f767",
   "metadata": {},
   "outputs": [
    {
     "data": {
      "text/plain": [
       "{'C': 0.5}"
      ]
     },
     "execution_count": 36,
     "metadata": {},
     "output_type": "execute_result"
    }
   ],
   "source": [
    "grid_lr_svc_multi.best_params_"
   ]
  },
  {
   "cell_type": "code",
   "execution_count": 37,
   "id": "4459ee14-18d2-42d3-a769-baffb42bfc75",
   "metadata": {},
   "outputs": [
    {
     "data": {
      "text/plain": [
       "0.7371565353823872"
      ]
     },
     "execution_count": 37,
     "metadata": {},
     "output_type": "execute_result"
    }
   ],
   "source": [
    "grid_lr_svc_multi.score(x_test_3, y_test_3)"
   ]
  },
  {
   "cell_type": "code",
   "execution_count": 38,
   "id": "a02108f1-666b-4573-9e7b-4325ee46236a",
   "metadata": {},
   "outputs": [
    {
     "data": {
      "text/plain": [
       "array([[15703,  1788,    46],\n",
       "       [ 3057, 14822,  2915],\n",
       "       [  334,  4927,  6122]], dtype=int64)"
      ]
     },
     "execution_count": 38,
     "metadata": {},
     "output_type": "execute_result"
    }
   ],
   "source": [
    "grid_lr_svc_multi_predict = grid_lr_svc_multi.predict(x_test_3)\n",
    "cm_lr_multi = confusion_matrix(y_test_3, grid_lr_svc_multi_predict)\n",
    "cm_lr_multi"
   ]
  },
  {
   "cell_type": "code",
   "execution_count": 39,
   "id": "80a1797e-6915-459a-9531-4ba51e483fc2",
   "metadata": {},
   "outputs": [
    {
     "data": {
      "text/html": [
       "<style>#sk-container-id-8 {color: black;background-color: white;}#sk-container-id-8 pre{padding: 0;}#sk-container-id-8 div.sk-toggleable {background-color: white;}#sk-container-id-8 label.sk-toggleable__label {cursor: pointer;display: block;width: 100%;margin-bottom: 0;padding: 0.3em;box-sizing: border-box;text-align: center;}#sk-container-id-8 label.sk-toggleable__label-arrow:before {content: \"▸\";float: left;margin-right: 0.25em;color: #696969;}#sk-container-id-8 label.sk-toggleable__label-arrow:hover:before {color: black;}#sk-container-id-8 div.sk-estimator:hover label.sk-toggleable__label-arrow:before {color: black;}#sk-container-id-8 div.sk-toggleable__content {max-height: 0;max-width: 0;overflow: hidden;text-align: left;background-color: #f0f8ff;}#sk-container-id-8 div.sk-toggleable__content pre {margin: 0.2em;color: black;border-radius: 0.25em;background-color: #f0f8ff;}#sk-container-id-8 input.sk-toggleable__control:checked~div.sk-toggleable__content {max-height: 200px;max-width: 100%;overflow: auto;}#sk-container-id-8 input.sk-toggleable__control:checked~label.sk-toggleable__label-arrow:before {content: \"▾\";}#sk-container-id-8 div.sk-estimator input.sk-toggleable__control:checked~label.sk-toggleable__label {background-color: #d4ebff;}#sk-container-id-8 div.sk-label input.sk-toggleable__control:checked~label.sk-toggleable__label {background-color: #d4ebff;}#sk-container-id-8 input.sk-hidden--visually {border: 0;clip: rect(1px 1px 1px 1px);clip: rect(1px, 1px, 1px, 1px);height: 1px;margin: -1px;overflow: hidden;padding: 0;position: absolute;width: 1px;}#sk-container-id-8 div.sk-estimator {font-family: monospace;background-color: #f0f8ff;border: 1px dotted black;border-radius: 0.25em;box-sizing: border-box;margin-bottom: 0.5em;}#sk-container-id-8 div.sk-estimator:hover {background-color: #d4ebff;}#sk-container-id-8 div.sk-parallel-item::after {content: \"\";width: 100%;border-bottom: 1px solid gray;flex-grow: 1;}#sk-container-id-8 div.sk-label:hover label.sk-toggleable__label {background-color: #d4ebff;}#sk-container-id-8 div.sk-serial::before {content: \"\";position: absolute;border-left: 1px solid gray;box-sizing: border-box;top: 0;bottom: 0;left: 50%;z-index: 0;}#sk-container-id-8 div.sk-serial {display: flex;flex-direction: column;align-items: center;background-color: white;padding-right: 0.2em;padding-left: 0.2em;position: relative;}#sk-container-id-8 div.sk-item {position: relative;z-index: 1;}#sk-container-id-8 div.sk-parallel {display: flex;align-items: stretch;justify-content: center;background-color: white;position: relative;}#sk-container-id-8 div.sk-item::before, #sk-container-id-8 div.sk-parallel-item::before {content: \"\";position: absolute;border-left: 1px solid gray;box-sizing: border-box;top: 0;bottom: 0;left: 50%;z-index: -1;}#sk-container-id-8 div.sk-parallel-item {display: flex;flex-direction: column;z-index: 1;position: relative;background-color: white;}#sk-container-id-8 div.sk-parallel-item:first-child::after {align-self: flex-end;width: 50%;}#sk-container-id-8 div.sk-parallel-item:last-child::after {align-self: flex-start;width: 50%;}#sk-container-id-8 div.sk-parallel-item:only-child::after {width: 0;}#sk-container-id-8 div.sk-dashed-wrapped {border: 1px dashed gray;margin: 0 0.4em 0.5em 0.4em;box-sizing: border-box;padding-bottom: 0.4em;background-color: white;}#sk-container-id-8 div.sk-label label {font-family: monospace;font-weight: bold;display: inline-block;line-height: 1.2em;}#sk-container-id-8 div.sk-label-container {text-align: center;}#sk-container-id-8 div.sk-container {/* jupyter's `normalize.less` sets `[hidden] { display: none; }` but bootstrap.min.css set `[hidden] { display: none !important; }` so we also need the `!important` here to be able to override the default hidden behavior on the sphinx rendered scikit-learn.org. See: https://github.com/scikit-learn/scikit-learn/issues/21755 */display: inline-block !important;position: relative;}#sk-container-id-8 div.sk-text-repr-fallback {display: none;}</style><div id=\"sk-container-id-8\" class=\"sk-top-container\"><div class=\"sk-text-repr-fallback\"><pre>GridSearchCV(cv=5, estimator=SVC(decision_function_shape=&#x27;ovo&#x27;, random_state=0),\n",
       "             n_jobs=2,\n",
       "             param_grid={&#x27;C&#x27;: [50, 100, 1000], &#x27;gamma&#x27;: [0.001, 0.005, 0.01]})</pre><b>In a Jupyter environment, please rerun this cell to show the HTML representation or trust the notebook. <br />On GitHub, the HTML representation is unable to render, please try loading this page with nbviewer.org.</b></div><div class=\"sk-container\" hidden><div class=\"sk-item sk-dashed-wrapped\"><div class=\"sk-label-container\"><div class=\"sk-label sk-toggleable\"><input class=\"sk-toggleable__control sk-hidden--visually\" id=\"sk-estimator-id-16\" type=\"checkbox\" ><label for=\"sk-estimator-id-16\" class=\"sk-toggleable__label sk-toggleable__label-arrow\">GridSearchCV</label><div class=\"sk-toggleable__content\"><pre>GridSearchCV(cv=5, estimator=SVC(decision_function_shape=&#x27;ovo&#x27;, random_state=0),\n",
       "             n_jobs=2,\n",
       "             param_grid={&#x27;C&#x27;: [50, 100, 1000], &#x27;gamma&#x27;: [0.001, 0.005, 0.01]})</pre></div></div></div><div class=\"sk-parallel\"><div class=\"sk-parallel-item\"><div class=\"sk-item\"><div class=\"sk-label-container\"><div class=\"sk-label sk-toggleable\"><input class=\"sk-toggleable__control sk-hidden--visually\" id=\"sk-estimator-id-17\" type=\"checkbox\" ><label for=\"sk-estimator-id-17\" class=\"sk-toggleable__label sk-toggleable__label-arrow\">estimator: SVC</label><div class=\"sk-toggleable__content\"><pre>SVC(decision_function_shape=&#x27;ovo&#x27;, random_state=0)</pre></div></div></div><div class=\"sk-serial\"><div class=\"sk-item\"><div class=\"sk-estimator sk-toggleable\"><input class=\"sk-toggleable__control sk-hidden--visually\" id=\"sk-estimator-id-18\" type=\"checkbox\" ><label for=\"sk-estimator-id-18\" class=\"sk-toggleable__label sk-toggleable__label-arrow\">SVC</label><div class=\"sk-toggleable__content\"><pre>SVC(decision_function_shape=&#x27;ovo&#x27;, random_state=0)</pre></div></div></div></div></div></div></div></div></div></div>"
      ],
      "text/plain": [
       "GridSearchCV(cv=5, estimator=SVC(decision_function_shape='ovo', random_state=0),\n",
       "             n_jobs=2,\n",
       "             param_grid={'C': [50, 100, 1000], 'gamma': [0.001, 0.005, 0.01]})"
      ]
     },
     "execution_count": 39,
     "metadata": {},
     "output_type": "execute_result"
    }
   ],
   "source": [
    "from sklearn.svm import SVC\n",
    "from sklearn.model_selection import GridSearchCV\n",
    "base_svc_multi_rbf = SVC(random_state = 0,kernel = 'rbf', decision_function_shape = 'ovo' )\n",
    "\n",
    "#define a list of parameters\n",
    "param_svc_multi_kernel_rbf = {'C':  [50, 100, 1000] ,\n",
    "                        'gamma':  [0.001, 0.005,0.01]} \n",
    "\n",
    "#apply grid search\n",
    "grid_svc_multi_rbf = GridSearchCV(base_svc_multi_rbf, param_svc_multi_kernel_rbf, cv = 5, n_jobs=2)\n",
    "\n",
    "grid_svc_multi_rbf.fit(x_train_5, y_train_5)"
   ]
  },
  {
   "cell_type": "code",
   "execution_count": 40,
   "id": "5726a131-c60a-4cbc-bd9d-804e098e4f9e",
   "metadata": {},
   "outputs": [
    {
     "data": {
      "text/plain": [
       "{'C': 50, 'gamma': 0.01}"
      ]
     },
     "execution_count": 40,
     "metadata": {},
     "output_type": "execute_result"
    }
   ],
   "source": [
    "grid_svc_multi_rbf.best_params_"
   ]
  },
  {
   "cell_type": "code",
   "execution_count": 41,
   "id": "b9356164-2325-40db-aa57-0d2cbaed698f",
   "metadata": {},
   "outputs": [
    {
     "data": {
      "text/plain": [
       "0.7828867970069998"
      ]
     },
     "execution_count": 41,
     "metadata": {},
     "output_type": "execute_result"
    }
   ],
   "source": [
    "grid_svc_multi_rbf.score(x_test_5, y_test_5)"
   ]
  },
  {
   "cell_type": "code",
   "execution_count": 42,
   "id": "0930d8f0-194b-47fc-b9af-2647ec8f451b",
   "metadata": {},
   "outputs": [
    {
     "data": {
      "text/plain": [
       "array([[2544,  390,   11],\n",
       "       [ 309, 2790,  370],\n",
       "       [  33,  686, 1153]], dtype=int64)"
      ]
     },
     "execution_count": 42,
     "metadata": {},
     "output_type": "execute_result"
    }
   ],
   "source": [
    "grid_svc_multi_rbf_predict = grid_svc_multi_rbf.predict(x_test_5)\n",
    "cm_multi_rbf = confusion_matrix(y_test_5, grid_svc_multi_rbf_predict)\n",
    "cm_multi_rbf"
   ]
  },
  {
   "cell_type": "code",
   "execution_count": null,
   "id": "c6162415-380e-48b8-b98a-b5457656deb7",
   "metadata": {},
   "outputs": [],
   "source": [
    "# End of the SVM"
   ]
  }
 ],
 "metadata": {
  "kernelspec": {
   "display_name": "Python 3 (ipykernel)",
   "language": "python",
   "name": "python3"
  },
  "language_info": {
   "codemirror_mode": {
    "name": "ipython",
    "version": 3
   },
   "file_extension": ".py",
   "mimetype": "text/x-python",
   "name": "python",
   "nbconvert_exporter": "python",
   "pygments_lexer": "ipython3",
   "version": "3.9.12"
  }
 },
 "nbformat": 4,
 "nbformat_minor": 5
}
